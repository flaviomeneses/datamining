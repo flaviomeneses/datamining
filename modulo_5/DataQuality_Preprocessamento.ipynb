{
 "cells": [
  {
   "cell_type": "markdown",
   "metadata": {},
   "source": [
    "# Qualidade dos dados e Pré-processamento "
   ]
  },
  {
   "cell_type": "markdown",
   "metadata": {},
   "source": [
    "![alt text](https://joaomrcarvalho.github.io/images/images.png)"
   ]
  },
  {
   "cell_type": "code",
   "execution_count": null,
   "metadata": {},
   "outputs": [],
   "source": [
    "import pandas as pd\n",
    "import numpy as np\n",
    "import matplotlib.pyplot\n",
    "%matplotlib inline"
   ]
  },
  {
   "cell_type": "markdown",
   "metadata": {},
   "source": [
    "## Valores em falta (missing values)"
   ]
  },
  {
   "cell_type": "markdown",
   "metadata": {},
   "source": [
    "### Detectar valores em falta"
   ]
  },
  {
   "cell_type": "code",
   "execution_count": null,
   "metadata": {
    "scrolled": true
   },
   "outputs": [],
   "source": [
    "data = pd.read_csv('../dados/missed_phone_data.csv',index_col='index')\n",
    "\n",
    "data.head()"
   ]
  },
  {
   "cell_type": "code",
   "execution_count": null,
   "metadata": {},
   "outputs": [],
   "source": [
    "data.isnull().head()"
   ]
  },
  {
   "cell_type": "code",
   "execution_count": null,
   "metadata": {},
   "outputs": [],
   "source": [
    "print(data.isnull().any(axis=0))\n",
    "\n",
    "print('------------------------------------------------------------------------------------------')\n",
    "\n",
    "print(data.isnull().any(axis=1))"
   ]
  },
  {
   "cell_type": "code",
   "execution_count": null,
   "metadata": {},
   "outputs": [],
   "source": [
    "print(data.isnull().any(axis=0).value_counts())\n",
    "\n",
    "\n",
    "print('----------------------------------------------------------------------------------------------')\n",
    "\n",
    "print(data.isnull().any(axis=1).value_counts())"
   ]
  },
  {
   "cell_type": "markdown",
   "metadata": {},
   "source": [
    "### Como copiar uma nova estrutura as entradas (indexes) com \"missing values\"?"
   ]
  },
  {
   "cell_type": "code",
   "execution_count": null,
   "metadata": {},
   "outputs": [],
   "source": [
    "# Resolução\n"
   ]
  },
  {
   "cell_type": "markdown",
   "metadata": {},
   "source": [
    "### e com apenas com entradas (indexes) completos?"
   ]
  },
  {
   "cell_type": "code",
   "execution_count": null,
   "metadata": {},
   "outputs": [],
   "source": [
    "# Resolução \n"
   ]
  },
  {
   "cell_type": "markdown",
   "metadata": {},
   "source": [
    "### Lidar com valores em falta"
   ]
  },
  {
   "cell_type": "code",
   "execution_count": null,
   "metadata": {},
   "outputs": [],
   "source": [
    "incomplet_data = pd.read_csv('../dados/missed_phone_data.csv', index_col='index')\n",
    "complet_data = pd.read_csv('../dados/phone_data.csv', index_col='index')\n",
    "\n",
    "miss_indexes =  incomplet_data[incomplet_data.isnull().any(axis=1)].index\n",
    "\n",
    "print(miss_indexes)"
   ]
  },
  {
   "cell_type": "code",
   "execution_count": null,
   "metadata": {},
   "outputs": [],
   "source": [
    "print(incomplet_data.columns[incomplet_data.isnull().any(axis=0)])\n",
    "print('-----------------------------------------')\n",
    "print(incomplet_data[incomplet_data['duration'].isnull()])"
   ]
  },
  {
   "cell_type": "code",
   "execution_count": null,
   "metadata": {},
   "outputs": [],
   "source": [
    "print(incomplet_data['duration'].head(11))\n",
    "print(incomplet_data['duration'].mean())\n",
    "incomplet_data['duration'].fillna(incomplet_data['duration'].mean(),inplace=True)"
   ]
  },
  {
   "cell_type": "code",
   "execution_count": null,
   "metadata": {},
   "outputs": [],
   "source": [
    "duration_true = complet_data.iloc[miss_indexes]['duration']\n",
    "duration_completed = incomplet_data.iloc[miss_indexes]['duration']\n",
    "\n",
    "print(abs(duration_true - duration_completed).sum()/len(duration_completed))"
   ]
  },
  {
   "cell_type": "code",
   "execution_count": null,
   "metadata": {},
   "outputs": [],
   "source": [
    "print(incomplet_data['item'].head(5))\n",
    "\n",
    "print(\"-------------------------\")\n",
    "\n",
    "print('mode: {}'.format(incomplet_data['item'].mode()[0]))\n",
    "\n",
    "print(\"-------------------------\")\n",
    "\n",
    "incomplet_data['item'].fillna(incomplet_data['item'].mode,inplace=True)"
   ]
  },
  {
   "cell_type": "code",
   "execution_count": null,
   "metadata": {},
   "outputs": [],
   "source": [
    "item_true = complet_data.iloc[miss_indexes]['item']\n",
    "item_completed = incomplet_data.iloc[miss_indexes]['item']\n",
    "\n",
    "print(len(item_true.loc[item_true == item_completed])/len(item_completed))"
   ]
  },
  {
   "cell_type": "code",
   "execution_count": null,
   "metadata": {},
   "outputs": [],
   "source": [
    "incomplet_data = pd.read_csv('../dados/missed_phone_data.csv',index_col='index')\n",
    "\n",
    "out_data = incomplet_data.loc[incomplet_data['duration'].notnull()]"
   ]
  },
  {
   "cell_type": "code",
   "execution_count": null,
   "metadata": {},
   "outputs": [],
   "source": [
    "group = out_data.groupby('item').mean()['duration']\n",
    "\n",
    "print(group)\n",
    "\n",
    "print('------------------------------')\n",
    "\n",
    "print('Media total: {}'.format(incomplet_data['duration'].mean()))\n",
    "print('Media call: {}'.format(group.loc['call']))"
   ]
  },
  {
   "cell_type": "markdown",
   "metadata": {},
   "source": [
    "**Sugestão de exercício**: Completar o código que se segue substituindo o preenchimento de valores em falta pela variável agrupada por outra coluna, de forma a obter um resultado mais fidedigno. "
   ]
  },
  {
   "cell_type": "code",
   "execution_count": null,
   "metadata": {
    "scrolled": false
   },
   "outputs": [],
   "source": [
    "# tendo em conta os resultados anteriores,\n",
    "# podemos  preencher os dados em falta:\n",
    "\n",
    "#incomplet_data['duration'].fillna(incomplet_data['duration'].mean(),inplace=True)\n",
    "\n",
    "for i, value in enumerate(incomplet_data['item']):\n",
    "    #TODO: se encontrar valor em falta\n",
    "    # substituir valor\n",
    "        \n",
    "\n",
    "print(incomplet_data.head(11))"
   ]
  },
  {
   "cell_type": "code",
   "execution_count": null,
   "metadata": {},
   "outputs": [],
   "source": [
    "# vamos carregar os registos da coluna 'duration' com missing values\n",
    "duration_true = complet_data.iloc[miss_indexes]['duration']\n",
    "duration_completed = incomplet_data.iloc[miss_indexes]['duration']\n",
    "\n",
    "print(abs(duration_true - duration_completed).sum()/len(duration_completed))"
   ]
  },
  {
   "cell_type": "code",
   "execution_count": null,
   "metadata": {},
   "outputs": [],
   "source": [
    "incomplet_data = pd.read_csv('../dados/missed_phone_data.csv', index_col='index')\n",
    "\n",
    "\n",
    "out_data = incomplet_data.loc[incomplet_data[['network_type','network']].notnull().any(axis=1)]"
   ]
  },
  {
   "cell_type": "code",
   "execution_count": null,
   "metadata": {},
   "outputs": [],
   "source": [
    "print(out_data.head())\n",
    "\n",
    "print(\"--------------------------------\")\n",
    "group_main = out_data.groupby(['network_type','network'],as_index=True).agg(lambda x: x.value_counts().index[0])['item']\n",
    "\n",
    "# vamos agora fazer o mesmo procedimento, mas fazendo os grupos coluna a coluna individualmente\n",
    "# estes valores vão ser úteis no caso em que um dos valores seja NaN\n",
    "group_network_type =  out_data.groupby(['network_type'],as_index=True).agg(lambda x:x.value_counts().index[0])['item']\n",
    "group_network =  out_data.groupby(['network'],as_index=True).agg(lambda x:x.value_counts().index[0])['item']\n",
    "\n",
    "\n",
    "print(group_main)\n",
    "\n",
    "print(\"--------------------------------\")\n",
    "\n",
    "print(group_network_type)\n",
    "\n",
    "print(\"--------------------------------\")\n",
    "\n",
    "print(group_network)"
   ]
  },
  {
   "cell_type": "code",
   "execution_count": null,
   "metadata": {},
   "outputs": [],
   "source": [
    "# com esses três grupos, podemos agora substituir os valores em falta:\n",
    "for i,nt in enumerate(incomplet_data[['network_type','network']].values):\n",
    "    if pd.isnull(incomplet_data['item'][i]) == True: \n",
    "        \n",
    "        if pd.notnull(incomplet_data['network_type'][i]) == True and pd.notnull(incomplet_data['network'][i]) == True:\n",
    "            incomplet_data.loc[i,['item']] = group_main.loc[incomplet_data['network_type'][i]][incomplet_data['network'][i]]\n",
    "       \n",
    "        elif pd.notnull(incomplet_data['network_type'][i]) == False and pd.notnull(incomplet_data['network'][i]) == True:\n",
    "            print('atual:{}\\nsubstituir:{}'.format(incomplet_data['network_type'][i],group_network.loc[incomplet_data['network'][i]]))\n",
    "            incomplet_data.loc[i,['item']] = group_network.loc[incomplet_data['network'][i]]\n",
    "        \n",
    "        elif pd.notnull(incomplet_data['network_type'][i]) == True and pd.notnull(incomplet_data['network'][i]) == False:\n",
    "            incomplet_data.loc[i,['item']] = group_network_type.loc[incomplet_data['network_type'][i]]\n",
    "    \n",
    "\n",
    "#incomplet_data['item'].fillna(incomplet_data['item'].mode(), inplace=True)"
   ]
  },
  {
   "cell_type": "code",
   "execution_count": null,
   "metadata": {},
   "outputs": [],
   "source": [
    "item_true = complet_data.iloc[miss_indexes]['item']\n",
    "item_completed = incomplet_data.iloc[miss_indexes]['item']\n",
    "\n",
    "\n",
    "print(len(item_true.loc[item_true == item_completed])/len(item_completed))"
   ]
  },
  {
   "cell_type": "markdown",
   "metadata": {},
   "source": [
    "## Dados redundantes"
   ]
  },
  {
   "cell_type": "code",
   "execution_count": null,
   "metadata": {},
   "outputs": [],
   "source": [
    "data = pd.read_csv('../dados/Calls_for_Service_2015.csv')\n",
    "\n",
    "data.head()"
   ]
  },
  {
   "cell_type": "code",
   "execution_count": null,
   "metadata": {},
   "outputs": [],
   "source": [
    "print(data.duplicated().head(10))"
   ]
  },
  {
   "cell_type": "code",
   "execution_count": null,
   "metadata": {},
   "outputs": [],
   "source": [
    "print(data.duplicated().value_counts())"
   ]
  },
  {
   "cell_type": "code",
   "execution_count": null,
   "metadata": {},
   "outputs": [],
   "source": [
    "print(data.drop_duplicates().head())"
   ]
  },
  {
   "cell_type": "code",
   "execution_count": null,
   "metadata": {},
   "outputs": [],
   "source": [
    "print(data['NOPD_Item'].duplicated().head(10))\n",
    "print('----------------')\n",
    "print(data['NOPD_Item'].duplicated().value_counts())"
   ]
  },
  {
   "cell_type": "code",
   "execution_count": null,
   "metadata": {},
   "outputs": [],
   "source": [
    "print(data[['Priority', 'InitialType']].duplicated().value_counts())"
   ]
  },
  {
   "cell_type": "code",
   "execution_count": null,
   "metadata": {},
   "outputs": [],
   "source": [
    "data = data[data[['Priority', 'InitialType']].duplicated() == False]\n",
    "\n",
    "print(len(data))"
   ]
  },
  {
   "cell_type": "markdown",
   "metadata": {},
   "source": [
    "## Lidar com ruído nos dados"
   ]
  },
  {
   "cell_type": "code",
   "execution_count": null,
   "metadata": {},
   "outputs": [],
   "source": [
    "data = pd.read_csv('../dados/house_data.csv',index_col=0)\n",
    "\n",
    "data.head(10)"
   ]
  },
  {
   "cell_type": "markdown",
   "metadata": {},
   "source": [
    "**Sugestão de Exercício:** Preencher os valores do dataset 'house_data.csv' e justificar o motivo para os métodos utilizados."
   ]
  },
  {
   "cell_type": "code",
   "execution_count": null,
   "metadata": {},
   "outputs": [],
   "source": [
    "# Exercício\n",
    "\n",
    "#algum missing value?\n",
    "print('BEFORE:', data.isnull().values.any())\n",
    "\n",
    "#indices com missing values?\n",
    "\n",
    "#colunas com missing values?\n",
    "\n",
    "\n",
    "#ainda temos missing values?\n",
    "print('-------------------------')\n",
    "print('AFTER:',data.isnull().values.any())"
   ]
  },
  {
   "cell_type": "markdown",
   "metadata": {},
   "source": [
    "### Encontrar ruído através da visualização de dados"
   ]
  },
  {
   "cell_type": "code",
   "execution_count": null,
   "metadata": {},
   "outputs": [],
   "source": [
    "data['SalePrice'].plot.box()\n",
    "print(data['SalePrice'].describe())"
   ]
  },
  {
   "cell_type": "code",
   "execution_count": null,
   "metadata": {},
   "outputs": [],
   "source": [
    "data.boxplot(column='SalePrice', by='SaleCondition')"
   ]
  },
  {
   "cell_type": "code",
   "execution_count": null,
   "metadata": {},
   "outputs": [],
   "source": [
    "data.boxplot(column='SalePrice', by='GarageCars')"
   ]
  },
  {
   "cell_type": "code",
   "execution_count": null,
   "metadata": {
    "scrolled": false
   },
   "outputs": [],
   "source": [
    "data.boxplot(column='SalePrice', by=['GarageCars','SaleCondition'],figsize=(25,7))"
   ]
  },
  {
   "cell_type": "code",
   "execution_count": null,
   "metadata": {},
   "outputs": [],
   "source": [
    "data.plot.scatter(x='LotArea',y='SalePrice')"
   ]
  },
  {
   "cell_type": "code",
   "execution_count": null,
   "metadata": {},
   "outputs": [],
   "source": [
    "data.plot.scatter(x='LotArea',y='SalePrice', c= data['GarageCars'])"
   ]
  },
  {
   "cell_type": "code",
   "execution_count": null,
   "metadata": {},
   "outputs": [],
   "source": [
    "select_data = data[(data['SalePrice'] < 600000) & (data['LotArea'] < 50000)]\n",
    "\n",
    "select_data.plot.scatter(x='LotArea',y='SalePrice',c=select_data['GarageCars'])"
   ]
  },
  {
   "cell_type": "markdown",
   "metadata": {},
   "source": [
    "**Sugestão de Exercício:** Utilizar o box plot e scatter plot aplicados também a outras variáveis, para eliminar ruídos e apresentar a média dos preços das transações de imóveis."
   ]
  },
  {
   "cell_type": "code",
   "execution_count": null,
   "metadata": {},
   "outputs": [],
   "source": [
    "# Resolução\n",
    "\n",
    "#boxplot\n",
    "\n",
    "#scatter\n",
    "\n",
    "\n",
    "#selected area\n"
   ]
  },
  {
   "cell_type": "markdown",
   "metadata": {},
   "source": [
    "### Detectar ruído através de índices e fórmulas estatísticas"
   ]
  },
  {
   "cell_type": "markdown",
   "metadata": {},
   "source": [
    "## Z-score"
   ]
  },
  {
   "cell_type": "code",
   "execution_count": null,
   "metadata": {},
   "outputs": [],
   "source": [
    "data = pd.read_csv('../dados/house_data.csv',index_col=0)"
   ]
  },
  {
   "cell_type": "code",
   "execution_count": null,
   "metadata": {},
   "outputs": [],
   "source": [
    "from scipy.stats import zscore\n",
    "\n",
    "data['SalePrice_standartized'] = zscore(data['SalePrice'],axis=0)\n",
    "\n",
    "print(data['SalePrice_standartized'].head())"
   ]
  },
  {
   "cell_type": "code",
   "execution_count": null,
   "metadata": {},
   "outputs": [],
   "source": [
    "noise_data_super = data[data['SalePrice_standartized'] >= 3]['SalePrice']\n",
    "\n",
    "print(noise_data_super)"
   ]
  },
  {
   "cell_type": "code",
   "execution_count": null,
   "metadata": {},
   "outputs": [],
   "source": [
    "print(noise_data_super.min())"
   ]
  },
  {
   "cell_type": "code",
   "execution_count": null,
   "metadata": {},
   "outputs": [],
   "source": [
    "noise_data_inf = data[data['SalePrice_standartized'] <= -3]['SalePrice']\n",
    "\n",
    "print(noise_data_inf)"
   ]
  },
  {
   "cell_type": "code",
   "execution_count": null,
   "metadata": {},
   "outputs": [],
   "source": [
    "data['std_SalePrice_by_group'] = data.groupby('GarageCars')['SalePrice'].transform(zscore)\n",
    "print(data)"
   ]
  },
  {
   "cell_type": "code",
   "execution_count": null,
   "metadata": {},
   "outputs": [],
   "source": [
    "noise_data = data[abs(data['std_SalePrice_by_group']) >= 3]['SalePrice']\n",
    "\n",
    "print(noise_data)"
   ]
  },
  {
   "cell_type": "markdown",
   "metadata": {},
   "source": [
    "## IQR"
   ]
  },
  {
   "cell_type": "code",
   "execution_count": null,
   "metadata": {},
   "outputs": [],
   "source": [
    "primeiro_quartil = data['SalePrice'].quantile(0.25)\n",
    "\n",
    "terceiro_quartil = data['SalePrice'].quantile(0.75)\n",
    "\n",
    "print('primeiro quartil: {}'.format(primeiro_quartil))\n",
    "print('terceiro quartil: {}'.format(terceiro_quartil))\n",
    "#print(data['SalePrice'].describe())"
   ]
  },
  {
   "cell_type": "code",
   "execution_count": null,
   "metadata": {},
   "outputs": [],
   "source": [
    "clean_data = data[~((data['SalePrice'] < primeiro_quartil) | (data['SalePrice'] > terceiro_quartil))]\n",
    "# Nota: o símbolo \"~\" indica negação\n",
    "#clean_data2 = data[((data['SalePrice'] >= primeiro_quartil) & (data['SalePrice'] <= terceiro_quartil))]\n",
    "print(clean_data.head())\n"
   ]
  },
  {
   "cell_type": "code",
   "execution_count": null,
   "metadata": {},
   "outputs": [],
   "source": [
    "clean_data.plot.scatter(x='LotArea',y='SalePrice')"
   ]
  },
  {
   "cell_type": "code",
   "execution_count": null,
   "metadata": {},
   "outputs": [],
   "source": [
    "percentil_5 = data['SalePrice'].quantile(0.05)\n",
    "\n",
    "percentil_95 = data['SalePrice'].quantile(0.95)\n",
    "\n",
    "print('percentil 5: {}'.format(percentil_5))\n",
    "print('percentil 95: {}'.format(percentil_95))\n",
    "\n",
    "clean_data = data[~((data['SalePrice'] < percentil_5) | (data['SalePrice'] > percentil_95))]\n",
    "\n",
    "clean_data.plot.scatter(x='LotArea',y='SalePrice')"
   ]
  },
  {
   "cell_type": "code",
   "execution_count": null,
   "metadata": {},
   "outputs": [],
   "source": []
  }
 ],
 "metadata": {
  "kernelspec": {
   "display_name": "Python 2",
   "language": "python",
   "name": "python2"
  },
  "language_info": {
   "codemirror_mode": {
    "name": "ipython",
    "version": 3
   },
   "file_extension": ".py",
   "mimetype": "text/x-python",
   "name": "python",
   "nbconvert_exporter": "python",
   "pygments_lexer": "ipython3",
   "version": "3.7.0"
  }
 },
 "nbformat": 4,
 "nbformat_minor": 2
}
