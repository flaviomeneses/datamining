{
 "cells": [
  {
   "cell_type": "markdown",
   "metadata": {},
   "source": [
    "# Resumo de dados"
   ]
  },
  {
   "cell_type": "markdown",
   "metadata": {},
   "source": [
    "![alt text](https://joaomrcarvalho.github.io/images/multi-doc-summary-800x638.png)"
   ]
  },
  {
   "cell_type": "code",
   "execution_count": 1,
   "metadata": {},
   "outputs": [],
   "source": [
    "import pandas as pd\n",
    "import numpy as np"
   ]
  },
  {
   "cell_type": "markdown",
   "metadata": {},
   "source": [
    "## A função GroupBy"
   ]
  },
  {
   "cell_type": "code",
   "execution_count": 2,
   "metadata": {},
   "outputs": [
    {
     "name": "stdout",
     "output_type": "stream",
     "text": [
      "                 date  duration  item    month    network network_type\n",
      "index                                                                 \n",
      "0      15/10/14 06:58    34.429  data  2014-11       data         data\n",
      "1      15/10/14 06:58    13.000  call  2014-11   Vodafone       mobile\n",
      "2      15/10/14 14:46    23.000  call  2014-11     Meteor       mobile\n",
      "3      15/10/14 14:48     4.000  call  2014-11      Tesco       mobile\n",
      "4      15/10/14 17:27     4.000  call  2014-11      Tesco       mobile\n",
      "5      15/10/14 18:55     4.000  call  2014-11      Tesco       mobile\n",
      "6      16/10/14 06:58    34.429  data  2014-11       data         data\n",
      "7      16/10/14 15:01   602.000  call  2014-11      Three       mobile\n",
      "8      16/10/14 15:12  1050.000  call  2014-11      Three       mobile\n",
      "9      16/10/14 15:30    19.000  call  2014-11  voicemail    voicemail\n",
      "-----------------------------------------------------------------------------------------\n",
      "<class 'pandas.core.frame.DataFrame'>\n",
      "Int64Index: 830 entries, 0 to 829\n",
      "Data columns (total 6 columns):\n",
      " #   Column        Non-Null Count  Dtype  \n",
      "---  ------        --------------  -----  \n",
      " 0   date          830 non-null    object \n",
      " 1   duration      830 non-null    float64\n",
      " 2   item          830 non-null    object \n",
      " 3   month         830 non-null    object \n",
      " 4   network       830 non-null    object \n",
      " 5   network_type  830 non-null    object \n",
      "dtypes: float64(1), object(5)\n",
      "memory usage: 45.4+ KB\n",
      "None\n"
     ]
    }
   ],
   "source": [
    "data = pd.read_csv('../dados/phone_data.csv', index_col='index')\n",
    "\n",
    "print(data.head(10))\n",
    "print('-----------------------------------------------------------------------------------------')\n",
    "\n",
    "print(data.info())"
   ]
  },
  {
   "cell_type": "code",
   "execution_count": 3,
   "metadata": {},
   "outputs": [
    {
     "name": "stdout",
     "output_type": "stream",
     "text": [
      "                 date  duration  item    month   network network_type\n",
      "index                                                                \n",
      "0      15/10/14 06:58    34.429  data  2014-11      data         data\n",
      "1      15/10/14 06:58    13.000  call  2014-11  Vodafone       mobile\n",
      "2      15/10/14 14:46    23.000  call  2014-11    Meteor       mobile\n",
      "3      15/10/14 14:48     4.000  call  2014-11     Tesco       mobile\n",
      "4      15/10/14 17:27     4.000  call  2014-11     Tesco       mobile\n",
      "                     date  duration  item    month   network network_type\n",
      "index                                                                    \n",
      "0     2014-10-15 06:58:00    34.429  data  2014-11      data         data\n",
      "1     2014-10-15 06:58:00    13.000  call  2014-11  Vodafone       mobile\n",
      "2     2014-10-15 14:46:00    23.000  call  2014-11    Meteor       mobile\n",
      "3     2014-10-15 14:48:00     4.000  call  2014-11     Tesco       mobile\n",
      "4     2014-10-15 17:27:00     4.000  call  2014-11     Tesco       mobile\n",
      "...                   ...       ...   ...      ...       ...          ...\n",
      "95    2014-10-29 06:58:00    34.429  data  2014-11      data         data\n",
      "96    2014-10-29 12:56:00   442.000  call  2014-11  Vodafone       mobile\n",
      "97    2014-10-30 06:58:00    34.429  data  2014-11      data         data\n",
      "98    2014-10-30 14:31:00   463.000  call  2014-11  Vodafone       mobile\n",
      "99    2014-10-30 19:48:00     4.000  call  2014-11  Vodafone       mobile\n",
      "\n",
      "[100 rows x 6 columns]\n"
     ]
    }
   ],
   "source": [
    "import dateutil\n",
    "print(data.head())\n",
    "\n",
    "data['date'] = data['date'].apply(dateutil.parser.parse, dayfirst=True)\n",
    "print(data.head(100))"
   ]
  },
  {
   "cell_type": "code",
   "execution_count": 4,
   "metadata": {},
   "outputs": [
    {
     "name": "stdout",
     "output_type": "stream",
     "text": [
      "<bound method GroupBy.head of <pandas.core.groupby.generic.DataFrameGroupBy object at 0x114b2d710>>\n"
     ]
    }
   ],
   "source": [
    "group = data.groupby(['month'])\n",
    "\n",
    "print(group.head)"
   ]
  },
  {
   "cell_type": "code",
   "execution_count": 5,
   "metadata": {},
   "outputs": [
    {
     "name": "stdout",
     "output_type": "stream",
     "text": [
      "dict_keys(['2014-11', '2014-12', '2015-01', '2015-02', '2015-03'])\n"
     ]
    }
   ],
   "source": [
    "print(group.groups.keys())"
   ]
  },
  {
   "cell_type": "code",
   "execution_count": 6,
   "metadata": {},
   "outputs": [
    {
     "name": "stdout",
     "output_type": "stream",
     "text": [
      "Int64Index([  0,   1,   2,   3,   4,   5,   6,   7,   8,   9,\n",
      "            ...\n",
      "            220, 221, 222, 223, 224, 225, 226, 227, 229, 230],\n",
      "           dtype='int64', name='index', length=230)\n",
      "------------------------------------------------\n",
      "230\n"
     ]
    }
   ],
   "source": [
    "print(group.groups['2014-11'])\n",
    "\n",
    "print('------------------------------------------------')\n",
    "\n",
    "print(len(group.groups['2014-11']))"
   ]
  },
  {
   "cell_type": "code",
   "execution_count": 7,
   "metadata": {},
   "outputs": [
    {
     "name": "stdout",
     "output_type": "stream",
     "text": [
      "                       date  duration item    network network_type\n",
      "month                                                             \n",
      "2014-11 2014-11-13 22:31:00    1940.0  sms  voicemail    voicemail\n",
      "2014-12 2014-12-14 19:54:00    2120.0  sms      world        world\n",
      "2015-01 2015-01-14 23:36:00    1859.0  sms  voicemail    voicemail\n",
      "2015-02 2015-02-12 06:58:00    1863.0  sms  voicemail    voicemail\n",
      "2015-03 2015-03-14 00:16:00   10528.0  sms      world        world\n",
      "------------------------------------------------\n",
      "month\n",
      "2014-11     1940.0\n",
      "2014-12     2120.0\n",
      "2015-01     1859.0\n",
      "2015-02     1863.0\n",
      "2015-03    10528.0\n",
      "Name: duration, dtype: float64\n"
     ]
    }
   ],
   "source": [
    "#maximo de cada mês\n",
    "print(group.max())\n",
    "\n",
    "print('------------------------------------------------')\n",
    "\n",
    "print(group.max()['duration'])"
   ]
  },
  {
   "cell_type": "code",
   "execution_count": 8,
   "metadata": {},
   "outputs": [
    {
     "name": "stdout",
     "output_type": "stream",
     "text": [
      "                       date  duration  item   network network_type\n",
      "month                                                             \n",
      "2014-11 2014-10-15 06:58:00    34.429  data      data         data\n",
      "2014-12 2014-11-13 06:58:00    34.429  data      data         data\n",
      "2015-01 2014-12-13 06:58:00    34.429  data      data         data\n",
      "2015-02 2015-01-13 06:58:00    34.429  data      data         data\n",
      "2015-03 2015-02-12 20:15:00    69.000  call  landline     landline\n"
     ]
    }
   ],
   "source": [
    "print(group.first())"
   ]
  },
  {
   "cell_type": "code",
   "execution_count": 9,
   "metadata": {},
   "outputs": [
    {
     "name": "stdout",
     "output_type": "stream",
     "text": [
      "          duration\n",
      "month             \n",
      "2014-11  26639.441\n",
      "2014-12  14641.870\n",
      "2015-01  18223.299\n",
      "2015-02  15522.299\n",
      "2015-03  22750.441\n"
     ]
    }
   ],
   "source": [
    "print(group.sum())"
   ]
  },
  {
   "cell_type": "code",
   "execution_count": 10,
   "metadata": {},
   "outputs": [
    {
     "name": "stdout",
     "output_type": "stream",
     "text": [
      "          duration  item   network\n",
      "month                             \n",
      "2014-11  26639.441  data  Vodafone\n",
      "2014-12  14641.870  data     Three\n",
      "2015-01  18223.299  data     Three\n",
      "2015-02  15522.299  data      data\n",
      "2015-03  22750.441  call     world\n",
      "----------------------------------------------------------------------------\n",
      "     month    duration  item   network\n",
      "0  2014-11  115.823657   sms      data\n",
      "1  2014-12   93.260318  call      data\n",
      "2  2015-01   88.894141   sms      data\n",
      "3  2015-02  113.301453  data      data\n",
      "4  2015-03  225.251891   sms  landline\n"
     ]
    }
   ],
   "source": [
    "group = data.groupby('month').agg({'duration':'sum', 'item':'first', 'network':'last'})\n",
    "\n",
    "print(group)\n",
    "print('----------------------------------------------------------------------------')\n",
    "\n",
    "group = data.groupby('month', as_index=False).agg({'duration':'mean', 'item':'last', 'network':'first'})\n",
    "print(group)"
   ]
  },
  {
   "cell_type": "code",
   "execution_count": 11,
   "metadata": {},
   "outputs": [
    {
     "name": "stdout",
     "output_type": "stream",
     "text": [
      "        duration                         item   network\n",
      "             max        mean        sum first      last\n",
      "month                                                  \n",
      "2014-11   1940.0  115.823657  26639.441  data  Vodafone\n",
      "2014-12   2120.0   93.260318  14641.870  data     Three\n",
      "2015-01   1859.0   88.894141  18223.299  data     Three\n",
      "2015-02   1863.0  113.301453  15522.299  data      data\n",
      "2015-03  10528.0  225.251891  22750.441  call     world\n"
     ]
    }
   ],
   "source": [
    "group = data.groupby('month').agg({\"duration\":['max','mean','sum'] ,\"item\":'first','network':'last'})\n",
    "\n",
    "print(group)"
   ]
  },
  {
   "cell_type": "code",
   "execution_count": 12,
   "metadata": {},
   "outputs": [
    {
     "name": "stdout",
     "output_type": "stream",
     "text": [
      "               duration network_type                date        \n",
      "                    sum        count                last nunique\n",
      "month   item                                                    \n",
      "2014-11 call  25547.000          107 2014-11-12 19:01:00     104\n",
      "        data    998.441           29 2014-11-12 06:58:00      29\n",
      "        sms      94.000           94 2014-11-13 22:31:00      79\n",
      "2014-12 call  13561.000           79 2014-12-14 19:54:00      76\n",
      "        data   1032.870           30 2014-12-12 06:58:00      30\n",
      "        sms      48.000           48 2014-12-07 23:22:00      41\n",
      "2015-01 call  17070.000           88 2015-01-14 20:47:00      84\n",
      "        data   1067.299           31 2015-01-12 06:58:00      31\n",
      "        sms      86.000           86 2015-01-14 23:36:00      58\n",
      "2015-02 call  14416.000           67 2015-02-09 17:54:00      67\n",
      "        data   1067.299           31 2015-02-12 06:58:00      31\n",
      "        sms      39.000           39 2015-02-10 21:40:00      27\n",
      "2015-03 call  21727.000           47 2015-03-04 12:29:00      47\n",
      "        data    998.441           29 2015-03-13 06:58:00      29\n",
      "        sms      25.000           25 2015-03-14 00:16:00      17\n"
     ]
    }
   ],
   "source": [
    "group = data.groupby(['month','item']).agg({'duration':'sum','network_type':'count','date':['last','nunique']})\n",
    "print(group)"
   ]
  },
  {
   "cell_type": "code",
   "execution_count": 13,
   "metadata": {},
   "outputs": [
    {
     "name": "stdout",
     "output_type": "stream",
     "text": [
      "     month duration                         item   network\n",
      "                max        mean        sum first      last\n",
      "0  2014-11   1940.0  115.823657  26639.441  data  Vodafone\n",
      "1  2014-12   2120.0   93.260318  14641.870  data     Three\n",
      "2  2015-01   1859.0   88.894141  18223.299  data     Three\n",
      "3  2015-02   1863.0  113.301453  15522.299  data      data\n",
      "4  2015-03  10528.0  225.251891  22750.441  call     world\n"
     ]
    }
   ],
   "source": [
    "group = data.groupby('month', as_index=False).agg({\"duration\":['max','mean','sum'] ,\"item\":'first','network':'last'})\n",
    "print(group)"
   ]
  },
  {
   "cell_type": "code",
   "execution_count": 14,
   "metadata": {},
   "outputs": [
    {
     "name": "stdout",
     "output_type": "stream",
     "text": [
      "     month duration                         item   network\n",
      "                max        mean        sum first      last\n",
      "0  2014-11   1940.0  115.823657  26639.441  data  Vodafone\n",
      "1  2014-12   2120.0   93.260318  14641.870  data     Three\n",
      "2  2015-01   1859.0   88.894141  18223.299  data     Three\n",
      "3  2015-02   1863.0  113.301453  15522.299  data      data\n",
      "4  2015-03  10528.0  225.251891  22750.441  call     world\n",
      "----------------------------------------------------------------------------------------------\n",
      "                max        mean        sum first      last\n",
      "0  2014-11   1940.0  115.823657  26639.441  data  Vodafone\n",
      "1  2014-12   2120.0   93.260318  14641.870  data     Three\n",
      "2  2015-01   1859.0   88.894141  18223.299  data     Three\n",
      "3  2015-02   1863.0  113.301453  15522.299  data      data\n",
      "4  2015-03  10528.0  225.251891  22750.441  call     world\n",
      "----------------------------------------------------------------------------------------------\n",
      "            max_duration  mean_duration  sum_duration first      last\n",
      "0  2014-11        1940.0     115.823657     26639.441  data  Vodafone\n",
      "1  2014-12        2120.0      93.260318     14641.870  data     Three\n",
      "2  2015-01        1859.0      88.894141     18223.299  data     Three\n",
      "3  2015-02        1863.0     113.301453     15522.299  data      data\n",
      "4  2015-03       10528.0     225.251891     22750.441  call     world\n"
     ]
    }
   ],
   "source": [
    "print(group)\n",
    "group.columns = group.columns.droplevel(level=0)\n",
    "\n",
    "print('----------------------------------------------------------------------------------------------')\n",
    "print(group)\n",
    "print('----------------------------------------------------------------------------------------------')\n",
    "\n",
    "group.rename(columns={ 'max':'max_duration','mean':'mean_duration','sum':'sum_duration'}, inplace=True)\n",
    "print(group)"
   ]
  },
  {
   "cell_type": "code",
   "execution_count": 15,
   "metadata": {
    "scrolled": true
   },
   "outputs": [
    {
     "name": "stdout",
     "output_type": "stream",
     "text": [
      "     month duration                         item         network\n",
      "                max        mean        sum first  last      last\n",
      "0  2014-11   1940.0  115.823657  26639.441  data   sms  Vodafone\n",
      "1  2014-12   2120.0   93.260318  14641.870  data  call     Three\n",
      "2  2015-01   1859.0   88.894141  18223.299  data   sms     Three\n",
      "3  2015-02   1863.0  113.301453  15522.299  data  data      data\n",
      "4  2015-03  10528.0  225.251891  22750.441  call   sms     world\n",
      "--------------------------------------------------------------------------------------------------\n",
      "[('month', '') ('duration', 'max') ('duration', 'mean')\n",
      " ('duration', 'sum') ('item', 'first') ('item', 'last')\n",
      " ('network', 'last')]\n",
      "--------------------------------------------------------------------------------------------------\n",
      "    month_  duration_max  duration_mean  duration_sum item_first item_last  \\\n",
      "0  2014-11        1940.0     115.823657     26639.441       data       sms   \n",
      "1  2014-12        2120.0      93.260318     14641.870       data      call   \n",
      "2  2015-01        1859.0      88.894141     18223.299       data       sms   \n",
      "3  2015-02        1863.0     113.301453     15522.299       data      data   \n",
      "4  2015-03       10528.0     225.251891     22750.441       call       sms   \n",
      "\n",
      "  network_last  \n",
      "0     Vodafone  \n",
      "1        Three  \n",
      "2        Three  \n",
      "3         data  \n",
      "4        world  \n"
     ]
    }
   ],
   "source": [
    "group = data.groupby('month', as_index=False).agg({'duration':['max','mean','sum'] ,'item':['first','last'],'network':'last'})\n",
    "\n",
    "print(group)\n",
    "print('--------------------------------------------------------------------------------------------------')\n",
    "\n",
    "print(group.columns.ravel())\n",
    "\n",
    "print('--------------------------------------------------------------------------------------------------')\n",
    "\n",
    "group.columns = [\"_\".join(x) for x in group.columns.ravel()]\n",
    "print(group)"
   ]
  },
  {
   "cell_type": "markdown",
   "metadata": {},
   "source": [
    "**Sugestão de exercício:** Gerar um novo DataFrame a partir do conjunto de dados adults, agrupado por idade e aplicar-lhe as operações sum, min e max em três colunas distintas. No final, organizar os dados de forma intuitiva."
   ]
  },
  {
   "cell_type": "code",
   "execution_count": 16,
   "metadata": {},
   "outputs": [],
   "source": [
    "# Resolução"
   ]
  },
  {
   "cell_type": "markdown",
   "metadata": {},
   "source": [
    "## Combinar Múltiplos DataFrames"
   ]
  },
  {
   "cell_type": "code",
   "execution_count": 17,
   "metadata": {},
   "outputs": [
    {
     "name": "stdout",
     "output_type": "stream",
     "text": [
      "    x1   x2   x3   x4      especie\n",
      "0  5.1  3.5  1.4  0.2  Iris-setosa\n",
      "1  4.9  3.0  1.4  0.2  Iris-setosa\n",
      "2  4.7  3.2  1.3  0.2  Iris-setosa\n",
      "3  4.6  3.1  1.5  0.2  Iris-setosa\n",
      "4  5.0  3.6  1.4  0.2  Iris-setosa\n"
     ]
    }
   ],
   "source": [
    "data = pd.read_csv('../dados/iris.data',names=['x1','x2','x3','x4','especie'])\n",
    "print(data.head())"
   ]
  },
  {
   "cell_type": "markdown",
   "metadata": {},
   "source": [
    "### Concatenar DataFrames"
   ]
  },
  {
   "cell_type": "code",
   "execution_count": 18,
   "metadata": {},
   "outputs": [
    {
     "name": "stdout",
     "output_type": "stream",
     "text": [
      "    x1   x2   x3   x4      especie\n",
      "0  5.1  3.5  1.4  0.2  Iris-setosa\n",
      "1  4.9  3.0  1.4  0.2  Iris-setosa\n",
      "2  4.7  3.2  1.3  0.2  Iris-setosa\n",
      "3  4.6  3.1  1.5  0.2  Iris-setosa\n",
      "4  5.0  3.6  1.4  0.2  Iris-setosa\n",
      "5  5.4  3.9  1.7  0.4  Iris-setosa\n",
      "6  4.6  3.4  1.4  0.3  Iris-setosa\n",
      "7  5.0  3.4  1.5  0.2  Iris-setosa\n",
      "8  4.4  2.9  1.4  0.2  Iris-setosa\n",
      "9  4.9  3.1  1.5  0.1  Iris-setosa\n",
      "--------------------------------------------------------\n",
      "      x1   x2   x3   x4         especie\n",
      "140  6.7  3.1  5.6  2.4  Iris-virginica\n",
      "141  6.9  3.1  5.1  2.3  Iris-virginica\n",
      "142  5.8  2.7  5.1  1.9  Iris-virginica\n",
      "143  6.8  3.2  5.9  2.3  Iris-virginica\n",
      "144  6.7  3.3  5.7  2.5  Iris-virginica\n",
      "145  6.7  3.0  5.2  2.3  Iris-virginica\n",
      "146  6.3  2.5  5.0  1.9  Iris-virginica\n",
      "147  6.5  3.0  5.2  2.0  Iris-virginica\n",
      "148  6.2  3.4  5.4  2.3  Iris-virginica\n",
      "149  5.9  3.0  5.1  1.8  Iris-virginica\n",
      "--------------------------------------------------------\n",
      "    x1   x2   x3   x4         especie\n",
      "0  6.7  3.1  5.6  2.4  Iris-virginica\n",
      "1  6.9  3.1  5.1  2.3  Iris-virginica\n",
      "2  5.8  2.7  5.1  1.9  Iris-virginica\n",
      "3  6.8  3.2  5.9  2.3  Iris-virginica\n",
      "4  6.7  3.3  5.7  2.5  Iris-virginica\n",
      "5  6.7  3.0  5.2  2.3  Iris-virginica\n",
      "6  6.3  2.5  5.0  1.9  Iris-virginica\n",
      "7  6.5  3.0  5.2  2.0  Iris-virginica\n",
      "8  6.2  3.4  5.4  2.3  Iris-virginica\n",
      "9  5.9  3.0  5.1  1.8  Iris-virginica\n"
     ]
    }
   ],
   "source": [
    "first_10 = data.head(10)\n",
    "print(first_10)\n",
    "\n",
    "print('--------------------------------------------------------')\n",
    "\n",
    "last_10 = data.tail(10)\n",
    "print(last_10)\n",
    "\n",
    "print('--------------------------------------------------------')\n",
    "\n",
    "last_10 = last_10.reset_index(drop=True) \n",
    "print(last_10)"
   ]
  },
  {
   "cell_type": "code",
   "execution_count": 19,
   "metadata": {},
   "outputs": [
    {
     "name": "stdout",
     "output_type": "stream",
     "text": [
      "    x1   x2   x3   x4         especie\n",
      "0  5.1  3.5  1.4  0.2     Iris-setosa\n",
      "1  4.9  3.0  1.4  0.2     Iris-setosa\n",
      "2  4.7  3.2  1.3  0.2     Iris-setosa\n",
      "3  4.6  3.1  1.5  0.2     Iris-setosa\n",
      "4  5.0  3.6  1.4  0.2     Iris-setosa\n",
      "5  5.4  3.9  1.7  0.4     Iris-setosa\n",
      "6  4.6  3.4  1.4  0.3     Iris-setosa\n",
      "7  5.0  3.4  1.5  0.2     Iris-setosa\n",
      "8  4.4  2.9  1.4  0.2     Iris-setosa\n",
      "9  4.9  3.1  1.5  0.1     Iris-setosa\n",
      "0  6.7  3.1  5.6  2.4  Iris-virginica\n",
      "1  6.9  3.1  5.1  2.3  Iris-virginica\n",
      "2  5.8  2.7  5.1  1.9  Iris-virginica\n",
      "3  6.8  3.2  5.9  2.3  Iris-virginica\n",
      "4  6.7  3.3  5.7  2.5  Iris-virginica\n",
      "5  6.7  3.0  5.2  2.3  Iris-virginica\n",
      "6  6.3  2.5  5.0  1.9  Iris-virginica\n",
      "7  6.5  3.0  5.2  2.0  Iris-virginica\n",
      "8  6.2  3.4  5.4  2.3  Iris-virginica\n",
      "9  5.9  3.0  5.1  1.8  Iris-virginica\n",
      "-----------------------------------------------------------------------------\n",
      "    x1   x2   x3   x4      especie   x1   x2   x3   x4         especie\n",
      "0  5.1  3.5  1.4  0.2  Iris-setosa  6.7  3.1  5.6  2.4  Iris-virginica\n",
      "1  4.9  3.0  1.4  0.2  Iris-setosa  6.9  3.1  5.1  2.3  Iris-virginica\n",
      "2  4.7  3.2  1.3  0.2  Iris-setosa  5.8  2.7  5.1  1.9  Iris-virginica\n",
      "3  4.6  3.1  1.5  0.2  Iris-setosa  6.8  3.2  5.9  2.3  Iris-virginica\n",
      "4  5.0  3.6  1.4  0.2  Iris-setosa  6.7  3.3  5.7  2.5  Iris-virginica\n",
      "5  5.4  3.9  1.7  0.4  Iris-setosa  6.7  3.0  5.2  2.3  Iris-virginica\n",
      "6  4.6  3.4  1.4  0.3  Iris-setosa  6.3  2.5  5.0  1.9  Iris-virginica\n",
      "7  5.0  3.4  1.5  0.2  Iris-setosa  6.5  3.0  5.2  2.0  Iris-virginica\n",
      "8  4.4  2.9  1.4  0.2  Iris-setosa  6.2  3.4  5.4  2.3  Iris-virginica\n",
      "9  4.9  3.1  1.5  0.1  Iris-setosa  5.9  3.0  5.1  1.8  Iris-virginica\n"
     ]
    }
   ],
   "source": [
    "concat_vertical = pd.concat([first_10,last_10], axis=0)\n",
    "print(concat_vertical)\n",
    "\n",
    "print('-----------------------------------------------------------------------------')\n",
    "\n",
    "concat_horizontal = pd.concat([first_10,last_10], axis=1)\n",
    "print(concat_horizontal)"
   ]
  },
  {
   "cell_type": "code",
   "execution_count": 20,
   "metadata": {},
   "outputs": [
    {
     "name": "stdout",
     "output_type": "stream",
     "text": [
      "[0, 1, 2, 3, 4, 5, 6, 7, 8, 9, 0, 1, 2, 3, 4, 5, 6, 7, 8, 9]\n",
      "--------------------------------------------------------------------\n",
      "[0, 1, 2, 3, 4, 5, 6, 7, 8, 9, 10, 11, 12, 13, 14, 15, 16, 17, 18, 19]\n"
     ]
    }
   ],
   "source": [
    "print(list(concat_vertical.index))\n",
    "\n",
    "print('--------------------------------------------------------------------')\n",
    "\n",
    "concat_vertical = pd.concat([first_10,last_10],axis=0,ignore_index=True)\n",
    "print(list(concat_vertical.index))"
   ]
  },
  {
   "cell_type": "markdown",
   "metadata": {},
   "source": [
    "**Sugestão de exercício:** Renomear as colunas do dataframe last_10, eliminar a coluna relativa à espécie e concatenar com o dataframe first_10."
   ]
  },
  {
   "cell_type": "markdown",
   "metadata": {},
   "source": [
    "### A função  pd.merge"
   ]
  },
  {
   "cell_type": "code",
   "execution_count": 21,
   "metadata": {},
   "outputs": [],
   "source": [
    "df_1 = pd.DataFrame({'index_1':[1,2,3,4,6,7,9,10],\n",
    "                     'nomes':['joão','alexandre','andré','ana','bernardo','cláudia','rodrigo','maria'],\n",
    "                     'altura':[1.6,1.8,1.7,1.75,1.88,2.1,1.87,1.65]})\n",
    "\n",
    "df_2 = pd.DataFrame({'index_2':[1,2,3,4,5,6,7,8],\n",
    "                     'peso':[84,102,63,79,90,110,87,59]})"
   ]
  },
  {
   "cell_type": "code",
   "execution_count": 22,
   "metadata": {},
   "outputs": [
    {
     "name": "stdout",
     "output_type": "stream",
     "text": [
      "   index_1      nomes  altura  index_2  peso\n",
      "0        1       joão    1.60        1    84\n",
      "1        2  alexandre    1.80        2   102\n",
      "2        3      andré    1.70        3    63\n",
      "3        4        ana    1.75        4    79\n",
      "4        6   bernardo    1.88        6   110\n",
      "5        7    cláudia    2.10        7    87\n"
     ]
    }
   ],
   "source": [
    "merged_inner = pd.merge(left=df_1,right=df_2, left_on='index_1', right_on='index_2',how='inner')\n",
    "\n",
    "print(merged_inner)"
   ]
  },
  {
   "cell_type": "code",
   "execution_count": 23,
   "metadata": {},
   "outputs": [
    {
     "name": "stdout",
     "output_type": "stream",
     "text": [
      "   index_1      nomes  altura  index_2   peso\n",
      "0      1.0       joão    1.60      1.0   84.0\n",
      "1      2.0  alexandre    1.80      2.0  102.0\n",
      "2      3.0      andré    1.70      3.0   63.0\n",
      "3      4.0        ana    1.75      4.0   79.0\n",
      "4      6.0   bernardo    1.88      6.0  110.0\n",
      "5      7.0    cláudia    2.10      7.0   87.0\n",
      "6      9.0    rodrigo    1.87      NaN    NaN\n",
      "7     10.0      maria    1.65      NaN    NaN\n",
      "8      NaN        NaN     NaN      5.0   90.0\n",
      "9      NaN        NaN     NaN      8.0   59.0\n"
     ]
    }
   ],
   "source": [
    "merged_outer = pd.merge(left=df_1,right=df_2, left_on='index_1', right_on='index_2',how='outer')\n",
    "\n",
    "print(merged_outer)"
   ]
  },
  {
   "cell_type": "code",
   "execution_count": 24,
   "metadata": {},
   "outputs": [
    {
     "name": "stdout",
     "output_type": "stream",
     "text": [
      "   index_1      nomes  altura  index_2   peso\n",
      "0        1       joão    1.60      1.0   84.0\n",
      "1        2  alexandre    1.80      2.0  102.0\n",
      "2        3      andré    1.70      3.0   63.0\n",
      "3        4        ana    1.75      4.0   79.0\n",
      "4        6   bernardo    1.88      6.0  110.0\n",
      "5        7    cláudia    2.10      7.0   87.0\n",
      "6        9    rodrigo    1.87      NaN    NaN\n",
      "7       10      maria    1.65      NaN    NaN\n",
      "----------------------------------------------------------------------------------------------------\n",
      "   index_1      nomes  altura  index_2  peso\n",
      "0      1.0       joão    1.60        1    84\n",
      "1      2.0  alexandre    1.80        2   102\n",
      "2      3.0      andré    1.70        3    63\n",
      "3      4.0        ana    1.75        4    79\n",
      "4      6.0   bernardo    1.88        6   110\n",
      "5      7.0    cláudia    2.10        7    87\n",
      "6      NaN        NaN     NaN        5    90\n",
      "7      NaN        NaN     NaN        8    59\n"
     ]
    }
   ],
   "source": [
    "merged_left = pd.merge(left=df_1,right=df_2, left_on='index_1', right_on='index_2',how='left')\n",
    "\n",
    "print(merged_left)\n",
    "\n",
    "print(\"----------------------------------------------------------------------------------------------------\")\n",
    "\n",
    "merged_right = pd.merge(left=df_1,right=df_2, left_on='index_1', right_on='index_2',how='right')\n",
    "\n",
    "print(merged_right)"
   ]
  },
  {
   "cell_type": "markdown",
   "metadata": {},
   "source": [
    "## A tabela Pivot"
   ]
  },
  {
   "cell_type": "code",
   "execution_count": 25,
   "metadata": {},
   "outputs": [
    {
     "name": "stdout",
     "output_type": "stream",
     "text": [
      "   Account                          Name            Rep       Manager  \\\n",
      "0   714466               Trantow-Barrows   Craig Booker  Debra Henley   \n",
      "1   714466               Trantow-Barrows   Craig Booker  Debra Henley   \n",
      "2   714466               Trantow-Barrows   Craig Booker  Debra Henley   \n",
      "3   737550  Fritsch, Russel and Anderson   Craig Booker  Debra Henley   \n",
      "4   146832                  Kiehn-Spinka  Daniel Hilton  Debra Henley   \n",
      "\n",
      "       Product  Quantity  Price     Status  \n",
      "0          CPU         1  30000  presented  \n",
      "1     Software         1  10000  presented  \n",
      "2  Maintenance         2   5000    pending  \n",
      "3          CPU         1  35000   declined  \n",
      "4          CPU         2  65000        won  \n"
     ]
    }
   ],
   "source": [
    "# !pip install xlrd\n",
    "\n",
    "data = pd.read_excel('../dados/sales-funnel.xlsx')\n",
    "print(data.head())"
   ]
  },
  {
   "cell_type": "code",
   "execution_count": 26,
   "metadata": {},
   "outputs": [
    {
     "name": "stdout",
     "output_type": "stream",
     "text": [
      "                              Account   Price  Quantity\n",
      "Name                                                   \n",
      "Barton LLC                     740150   35000  1.000000\n",
      "Fritsch, Russel and Anderson   737550   35000  1.000000\n",
      "Herman LLC                     141962   65000  2.000000\n",
      "Jerde-Hilpert                  412290    5000  2.000000\n",
      "Kassulke, Ondricka and Metz    307599    7000  3.000000\n",
      "Keeling LLC                    688981  100000  5.000000\n",
      "Kiehn-Spinka                   146832   65000  2.000000\n",
      "Koepp Ltd                      729833   35000  2.000000\n",
      "Kulas Inc                      218895   25000  1.500000\n",
      "Purdy-Kunde                    163416   30000  1.000000\n",
      "Stokes LLC                     239344    7500  1.000000\n",
      "Trantow-Barrows                714466   15000  1.333333\n"
     ]
    }
   ],
   "source": [
    "pvt_table = pd.pivot_table(data, index=['Name'])\n",
    "\n",
    "print(pvt_table)"
   ]
  },
  {
   "cell_type": "code",
   "execution_count": 27,
   "metadata": {},
   "outputs": [
    {
     "name": "stdout",
     "output_type": "stream",
     "text": [
      "                              Price\n",
      "Name                               \n",
      "Barton LLC                    35000\n",
      "Fritsch, Russel and Anderson  35000\n",
      "Herman LLC                    65000\n",
      "Jerde-Hilpert                  5000\n",
      "Kassulke, Ondricka and Metz    7000\n"
     ]
    }
   ],
   "source": [
    "pvt_table = pd.pivot_table(data,index=['Name'],values=['Price'])\n",
    "\n",
    "print(pvt_table.head())"
   ]
  },
  {
   "cell_type": "code",
   "execution_count": 28,
   "metadata": {},
   "outputs": [
    {
     "name": "stdout",
     "output_type": "stream",
     "text": [
      "                                            Account   Price  Quantity\n",
      "Rep           Name                                                   \n",
      "Cedric Moss   Herman LLC                     141962   65000  2.000000\n",
      "              Purdy-Kunde                    163416   30000  1.000000\n",
      "              Stokes LLC                     239344    7500  1.000000\n",
      "Craig Booker  Fritsch, Russel and Anderson   737550   35000  1.000000\n",
      "              Trantow-Barrows                714466   15000  1.333333\n",
      "Daniel Hilton Kiehn-Spinka                   146832   65000  2.000000\n",
      "              Kulas Inc                      218895   25000  1.500000\n",
      "John Smith    Barton LLC                     740150   35000  1.000000\n",
      "              Jerde-Hilpert                  412290    5000  2.000000\n",
      "Wendy Yule    Kassulke, Ondricka and Metz    307599    7000  3.000000\n",
      "              Keeling LLC                    688981  100000  5.000000\n",
      "              Koepp Ltd                      729833   35000  2.000000\n",
      "----------------------------------------------------------------------------------------------------------\n",
      "                                            Account   Price  Quantity\n",
      "Name                         Rep                                     \n",
      "Barton LLC                   John Smith      740150   35000  1.000000\n",
      "Fritsch, Russel and Anderson Craig Booker    737550   35000  1.000000\n",
      "Herman LLC                   Cedric Moss     141962   65000  2.000000\n",
      "Jerde-Hilpert                John Smith      412290    5000  2.000000\n",
      "Kassulke, Ondricka and Metz  Wendy Yule      307599    7000  3.000000\n",
      "Keeling LLC                  Wendy Yule      688981  100000  5.000000\n",
      "Kiehn-Spinka                 Daniel Hilton   146832   65000  2.000000\n",
      "Koepp Ltd                    Wendy Yule      729833   35000  2.000000\n",
      "Kulas Inc                    Daniel Hilton   218895   25000  1.500000\n",
      "Purdy-Kunde                  Cedric Moss     163416   30000  1.000000\n",
      "Stokes LLC                   Cedric Moss     239344    7500  1.000000\n",
      "Trantow-Barrows              Craig Booker    714466   15000  1.333333\n"
     ]
    }
   ],
   "source": [
    "pvt_table = pd.pivot_table(data,index=['Rep','Name'])\n",
    "\n",
    "print(pvt_table)\n",
    "\n",
    "print('----------------------------------------------------------------------------------------------------------')\n",
    "\n",
    "pvt_table = pd.pivot_table(data,index=['Name','Rep'])\n",
    "\n",
    "print(pvt_table)"
   ]
  },
  {
   "cell_type": "code",
   "execution_count": 54,
   "metadata": {},
   "outputs": [
    {
     "name": "stdout",
     "output_type": "stream",
     "text": [
      "                                                         Price  Quantity\n",
      "Rep           Name                         Product                      \n",
      "Cedric Moss   Herman LLC                   CPU           65000         2\n",
      "              Purdy-Kunde                  CPU           30000         1\n",
      "              Stokes LLC                   Maintenance    5000         1\n",
      "                                           Software      10000         1\n",
      "Craig Booker  Fritsch, Russel and Anderson CPU           35000         1\n",
      "              Trantow-Barrows              CPU           30000         1\n",
      "                                           Maintenance    5000         2\n",
      "                                           Software      10000         1\n",
      "Daniel Hilton Kiehn-Spinka                 CPU           65000         2\n",
      "              Kulas Inc                    CPU           40000         2\n",
      "                                           Software      10000         1\n",
      "John Smith    Barton LLC                   CPU           35000         1\n",
      "              Jerde-Hilpert                Maintenance    5000         2\n",
      "Wendy Yule    Kassulke, Ondricka and Metz  Maintenance    7000         3\n",
      "              Keeling LLC                  CPU          100000         5\n",
      "              Koepp Ltd                    CPU           65000         2\n",
      "                                           Monitor        5000         2\n"
     ]
    }
   ],
   "source": [
    "pvt_table = pd.pivot_table(data,index=[\"Rep\",\"Name\",\"Product\"],values=[\"Price\",\"Quantity\"])\n",
    "print(pvt_table)"
   ]
  },
  {
   "cell_type": "code",
   "execution_count": 55,
   "metadata": {},
   "outputs": [
    {
     "name": "stdout",
     "output_type": "stream",
     "text": [
      "Cedric Moss\n",
      "Craig Booker\n",
      "Daniel Hilton\n",
      "John Smith\n",
      "Wendy Yule\n"
     ]
    }
   ],
   "source": [
    "rep = pvt_table.loc['Cedric Moss']\n",
    "\n",
    "print(rep)\n",
    "\n",
    "#resolução"
   ]
  },
  {
   "cell_type": "markdown",
   "metadata": {},
   "source": [
    "**Sugestão de exercício:** Salvar as subtabelas em arquivos independentes no formato excel."
   ]
  },
  {
   "cell_type": "code",
   "execution_count": 57,
   "metadata": {},
   "outputs": [
    {
     "name": "stdout",
     "output_type": "stream",
     "text": [
      "                                sum\n",
      "                              Price\n",
      "Manager       Rep                  \n",
      "Debra Henley  Craig Booker    80000\n",
      "              Daniel Hilton  115000\n",
      "              John Smith      40000\n",
      "Fred Anderson Cedric Moss    110000\n",
      "              Wendy Yule     177000\n",
      "-----------------------------------------------------------------------------------------------------\n",
      "                                sum          mean\n",
      "                              Price         Price\n",
      "Manager       Rep                                \n",
      "Debra Henley  Craig Booker    80000  20000.000000\n",
      "              Daniel Hilton  115000  38333.333333\n",
      "              John Smith      40000  20000.000000\n",
      "Fred Anderson Cedric Moss    110000  27500.000000\n",
      "              Wendy Yule     177000  44250.000000\n"
     ]
    }
   ],
   "source": [
    "pvt_table = pd.pivot_table(data,index=[\"Manager\",\"Rep\"],values=[\"Price\"],aggfunc=['sum'])\n",
    "\n",
    "print(pvt_table)\n",
    "\n",
    "print('-----------------------------------------------------------------------------------------------------')\n",
    "\n",
    "pvt_table = pd.pivot_table(data,index=[\"Manager\",\"Rep\"],values=[\"Price\"],aggfunc=['sum','mean'])\n",
    "\n",
    "print(pvt_table)"
   ]
  },
  {
   "cell_type": "code",
   "execution_count": 58,
   "metadata": {},
   "outputs": [
    {
     "name": "stdout",
     "output_type": "stream",
     "text": [
      "                                  sum                             \n",
      "                                Price                             \n",
      "Product                           CPU Maintenance Monitor Software\n",
      "Manager       Rep                                                 \n",
      "Debra Henley  Craig Booker    65000.0      5000.0     NaN  10000.0\n",
      "              Daniel Hilton  105000.0         NaN     NaN  10000.0\n",
      "              John Smith      35000.0      5000.0     NaN      NaN\n",
      "Fred Anderson Cedric Moss     95000.0      5000.0     NaN  10000.0\n",
      "              Wendy Yule     165000.0      7000.0  5000.0      NaN\n"
     ]
    }
   ],
   "source": [
    "pvt_table = pd.pivot_table(data,index=[\"Manager\",\"Rep\"],values=[\"Price\"],aggfunc=['sum'],columns=['Product'])\n",
    "\n",
    "print(pvt_table)"
   ]
  },
  {
   "cell_type": "code",
   "execution_count": 33,
   "metadata": {},
   "outputs": [
    {
     "name": "stdout",
     "output_type": "stream",
     "text": [
      "                                sum                             \n",
      "                              Price                             \n",
      "Product                         CPU Maintenance Monitor Software\n",
      "Manager       Rep                                               \n",
      "Debra Henley  Craig Booker    65000        5000       0    10000\n",
      "              Daniel Hilton  105000           0       0    10000\n",
      "              John Smith      35000        5000       0        0\n",
      "Fred Anderson Cedric Moss     95000        5000       0    10000\n",
      "              Wendy Yule     165000        7000    5000        0\n"
     ]
    }
   ],
   "source": [
    "pvt_table = pd.pivot_table(data,index=[\"Manager\",\"Rep\"],values=[\"Price\"],aggfunc=['sum'],columns=['Product'],\n",
    "                          fill_value=0)\n",
    "\n",
    "print(pvt_table)"
   ]
  },
  {
   "cell_type": "code",
   "execution_count": 34,
   "metadata": {},
   "outputs": [
    {
     "data": {
      "text/html": [
       "<div>\n",
       "<style scoped>\n",
       "    .dataframe tbody tr th:only-of-type {\n",
       "        vertical-align: middle;\n",
       "    }\n",
       "\n",
       "    .dataframe tbody tr th {\n",
       "        vertical-align: top;\n",
       "    }\n",
       "\n",
       "    .dataframe thead tr th {\n",
       "        text-align: left;\n",
       "    }\n",
       "\n",
       "    .dataframe thead tr:last-of-type th {\n",
       "        text-align: right;\n",
       "    }\n",
       "</style>\n",
       "<table border=\"1\" class=\"dataframe\">\n",
       "  <thead>\n",
       "    <tr>\n",
       "      <th></th>\n",
       "      <th></th>\n",
       "      <th colspan=\"4\" halign=\"left\">sum</th>\n",
       "      <th colspan=\"4\" halign=\"left\">mean</th>\n",
       "    </tr>\n",
       "    <tr>\n",
       "      <th></th>\n",
       "      <th></th>\n",
       "      <th colspan=\"4\" halign=\"left\">Price</th>\n",
       "      <th colspan=\"4\" halign=\"left\">Price</th>\n",
       "    </tr>\n",
       "    <tr>\n",
       "      <th></th>\n",
       "      <th>Product</th>\n",
       "      <th>CPU</th>\n",
       "      <th>Maintenance</th>\n",
       "      <th>Monitor</th>\n",
       "      <th>Software</th>\n",
       "      <th>CPU</th>\n",
       "      <th>Maintenance</th>\n",
       "      <th>Monitor</th>\n",
       "      <th>Software</th>\n",
       "    </tr>\n",
       "    <tr>\n",
       "      <th>Manager</th>\n",
       "      <th>Rep</th>\n",
       "      <th></th>\n",
       "      <th></th>\n",
       "      <th></th>\n",
       "      <th></th>\n",
       "      <th></th>\n",
       "      <th></th>\n",
       "      <th></th>\n",
       "      <th></th>\n",
       "    </tr>\n",
       "  </thead>\n",
       "  <tbody>\n",
       "    <tr>\n",
       "      <th rowspan=\"3\" valign=\"top\">Debra Henley</th>\n",
       "      <th>Craig Booker</th>\n",
       "      <td>65000</td>\n",
       "      <td>5000</td>\n",
       "      <td>0</td>\n",
       "      <td>10000</td>\n",
       "      <td>32500</td>\n",
       "      <td>5000</td>\n",
       "      <td>0</td>\n",
       "      <td>10000</td>\n",
       "    </tr>\n",
       "    <tr>\n",
       "      <th>Daniel Hilton</th>\n",
       "      <td>105000</td>\n",
       "      <td>0</td>\n",
       "      <td>0</td>\n",
       "      <td>10000</td>\n",
       "      <td>52500</td>\n",
       "      <td>0</td>\n",
       "      <td>0</td>\n",
       "      <td>10000</td>\n",
       "    </tr>\n",
       "    <tr>\n",
       "      <th>John Smith</th>\n",
       "      <td>35000</td>\n",
       "      <td>5000</td>\n",
       "      <td>0</td>\n",
       "      <td>0</td>\n",
       "      <td>35000</td>\n",
       "      <td>5000</td>\n",
       "      <td>0</td>\n",
       "      <td>0</td>\n",
       "    </tr>\n",
       "    <tr>\n",
       "      <th rowspan=\"2\" valign=\"top\">Fred Anderson</th>\n",
       "      <th>Cedric Moss</th>\n",
       "      <td>95000</td>\n",
       "      <td>5000</td>\n",
       "      <td>0</td>\n",
       "      <td>10000</td>\n",
       "      <td>47500</td>\n",
       "      <td>5000</td>\n",
       "      <td>0</td>\n",
       "      <td>10000</td>\n",
       "    </tr>\n",
       "    <tr>\n",
       "      <th>Wendy Yule</th>\n",
       "      <td>165000</td>\n",
       "      <td>7000</td>\n",
       "      <td>5000</td>\n",
       "      <td>0</td>\n",
       "      <td>82500</td>\n",
       "      <td>7000</td>\n",
       "      <td>5000</td>\n",
       "      <td>0</td>\n",
       "    </tr>\n",
       "  </tbody>\n",
       "</table>\n",
       "</div>"
      ],
      "text/plain": [
       "                                sum                                mean  \\\n",
       "                              Price                               Price   \n",
       "Product                         CPU Maintenance Monitor Software    CPU   \n",
       "Manager       Rep                                                         \n",
       "Debra Henley  Craig Booker    65000        5000       0    10000  32500   \n",
       "              Daniel Hilton  105000           0       0    10000  52500   \n",
       "              John Smith      35000        5000       0        0  35000   \n",
       "Fred Anderson Cedric Moss     95000        5000       0    10000  47500   \n",
       "              Wendy Yule     165000        7000    5000        0  82500   \n",
       "\n",
       "                                                          \n",
       "                                                          \n",
       "Product                     Maintenance Monitor Software  \n",
       "Manager       Rep                                         \n",
       "Debra Henley  Craig Booker         5000       0    10000  \n",
       "              Daniel Hilton           0       0    10000  \n",
       "              John Smith           5000       0        0  \n",
       "Fred Anderson Cedric Moss          5000       0    10000  \n",
       "              Wendy Yule           7000    5000        0  "
      ]
     },
     "execution_count": 34,
     "metadata": {},
     "output_type": "execute_result"
    }
   ],
   "source": [
    "pvt_table = pd.pivot_table(data,index=[\"Manager\",\"Rep\"],values=[\"Price\"],aggfunc=['sum','mean'],columns=['Product'],\n",
    "                          fill_value=0)\n",
    "\n",
    "pvt_table"
   ]
  },
  {
   "cell_type": "code",
   "execution_count": 35,
   "metadata": {},
   "outputs": [
    {
     "data": {
      "text/html": [
       "<div>\n",
       "<style scoped>\n",
       "    .dataframe tbody tr th:only-of-type {\n",
       "        vertical-align: middle;\n",
       "    }\n",
       "\n",
       "    .dataframe tbody tr th {\n",
       "        vertical-align: top;\n",
       "    }\n",
       "\n",
       "    .dataframe thead tr th {\n",
       "        text-align: left;\n",
       "    }\n",
       "\n",
       "    .dataframe thead tr:last-of-type th {\n",
       "        text-align: right;\n",
       "    }\n",
       "</style>\n",
       "<table border=\"1\" class=\"dataframe\">\n",
       "  <thead>\n",
       "    <tr>\n",
       "      <th></th>\n",
       "      <th></th>\n",
       "      <th></th>\n",
       "      <th>sum</th>\n",
       "      <th>mean</th>\n",
       "    </tr>\n",
       "    <tr>\n",
       "      <th></th>\n",
       "      <th></th>\n",
       "      <th></th>\n",
       "      <th>Price</th>\n",
       "      <th>Price</th>\n",
       "    </tr>\n",
       "    <tr>\n",
       "      <th>Manager</th>\n",
       "      <th>Rep</th>\n",
       "      <th>Product</th>\n",
       "      <th></th>\n",
       "      <th></th>\n",
       "    </tr>\n",
       "  </thead>\n",
       "  <tbody>\n",
       "    <tr>\n",
       "      <th rowspan=\"7\" valign=\"top\">Debra Henley</th>\n",
       "      <th rowspan=\"3\" valign=\"top\">Craig Booker</th>\n",
       "      <th>CPU</th>\n",
       "      <td>65000</td>\n",
       "      <td>32500</td>\n",
       "    </tr>\n",
       "    <tr>\n",
       "      <th>Maintenance</th>\n",
       "      <td>5000</td>\n",
       "      <td>5000</td>\n",
       "    </tr>\n",
       "    <tr>\n",
       "      <th>Software</th>\n",
       "      <td>10000</td>\n",
       "      <td>10000</td>\n",
       "    </tr>\n",
       "    <tr>\n",
       "      <th rowspan=\"2\" valign=\"top\">Daniel Hilton</th>\n",
       "      <th>CPU</th>\n",
       "      <td>105000</td>\n",
       "      <td>52500</td>\n",
       "    </tr>\n",
       "    <tr>\n",
       "      <th>Software</th>\n",
       "      <td>10000</td>\n",
       "      <td>10000</td>\n",
       "    </tr>\n",
       "    <tr>\n",
       "      <th rowspan=\"2\" valign=\"top\">John Smith</th>\n",
       "      <th>CPU</th>\n",
       "      <td>35000</td>\n",
       "      <td>35000</td>\n",
       "    </tr>\n",
       "    <tr>\n",
       "      <th>Maintenance</th>\n",
       "      <td>5000</td>\n",
       "      <td>5000</td>\n",
       "    </tr>\n",
       "    <tr>\n",
       "      <th rowspan=\"6\" valign=\"top\">Fred Anderson</th>\n",
       "      <th rowspan=\"3\" valign=\"top\">Cedric Moss</th>\n",
       "      <th>CPU</th>\n",
       "      <td>95000</td>\n",
       "      <td>47500</td>\n",
       "    </tr>\n",
       "    <tr>\n",
       "      <th>Maintenance</th>\n",
       "      <td>5000</td>\n",
       "      <td>5000</td>\n",
       "    </tr>\n",
       "    <tr>\n",
       "      <th>Software</th>\n",
       "      <td>10000</td>\n",
       "      <td>10000</td>\n",
       "    </tr>\n",
       "    <tr>\n",
       "      <th rowspan=\"3\" valign=\"top\">Wendy Yule</th>\n",
       "      <th>CPU</th>\n",
       "      <td>165000</td>\n",
       "      <td>82500</td>\n",
       "    </tr>\n",
       "    <tr>\n",
       "      <th>Maintenance</th>\n",
       "      <td>7000</td>\n",
       "      <td>7000</td>\n",
       "    </tr>\n",
       "    <tr>\n",
       "      <th>Monitor</th>\n",
       "      <td>5000</td>\n",
       "      <td>5000</td>\n",
       "    </tr>\n",
       "  </tbody>\n",
       "</table>\n",
       "</div>"
      ],
      "text/plain": [
       "                                            sum   mean\n",
       "                                          Price  Price\n",
       "Manager       Rep           Product                   \n",
       "Debra Henley  Craig Booker  CPU           65000  32500\n",
       "                            Maintenance    5000   5000\n",
       "                            Software      10000  10000\n",
       "              Daniel Hilton CPU          105000  52500\n",
       "                            Software      10000  10000\n",
       "              John Smith    CPU           35000  35000\n",
       "                            Maintenance    5000   5000\n",
       "Fred Anderson Cedric Moss   CPU           95000  47500\n",
       "                            Maintenance    5000   5000\n",
       "                            Software      10000  10000\n",
       "              Wendy Yule    CPU          165000  82500\n",
       "                            Maintenance    7000   7000\n",
       "                            Monitor        5000   5000"
      ]
     },
     "execution_count": 35,
     "metadata": {},
     "output_type": "execute_result"
    }
   ],
   "source": [
    "pvt_table = pd.pivot_table(data,index=[\"Manager\",\"Rep\",\"Product\"],values=[\"Price\"],aggfunc=['sum','mean'],\n",
    "                          fill_value=0)\n",
    "pvt_table"
   ]
  },
  {
   "cell_type": "markdown",
   "metadata": {},
   "source": [
    "## O padrão split-apply-combine"
   ]
  },
  {
   "cell_type": "code",
   "execution_count": 36,
   "metadata": {},
   "outputs": [
    {
     "name": "stdout",
     "output_type": "stream",
     "text": [
      "  size  sale  transaction type\n",
      "0   GG  1000           50    D\n",
      "1    G  1500           75    D\n",
      "2    M   800          410    D\n",
      "3    P   900          460    D\n",
      "4   GG  2000          115    D\n"
     ]
    }
   ],
   "source": [
    "fic_data = pd.DataFrame({'size':['GG','G','M','P','GG','G','M','P','GG','G','M','P','GG','G','M','P','M','P'],\n",
    "            'sale':[1000,1500,800,900,2000,1450,1200,3000,2500,2000,1600,900,901,1500,1420,1300,4000,3500],\n",
    "            'transaction':[50,75,410,460,115,60,35,125,125,55,65,430,490,150,85,115,140,80],\n",
    "             'type':['D','D','D','D','D','D','D','D','D','B','B','B','B','B','B','B','B','B']})\n",
    "\n",
    "print(fic_data.head())"
   ]
  },
  {
   "cell_type": "markdown",
   "metadata": {},
   "source": [
    "### Split"
   ]
  },
  {
   "cell_type": "code",
   "execution_count": 60,
   "metadata": {},
   "outputs": [
    {
     "data": {
      "text/html": [
       "<div>\n",
       "<style scoped>\n",
       "    .dataframe tbody tr th:only-of-type {\n",
       "        vertical-align: middle;\n",
       "    }\n",
       "\n",
       "    .dataframe tbody tr th {\n",
       "        vertical-align: top;\n",
       "    }\n",
       "\n",
       "    .dataframe thead th {\n",
       "        text-align: right;\n",
       "    }\n",
       "</style>\n",
       "<table border=\"1\" class=\"dataframe\">\n",
       "  <thead>\n",
       "    <tr style=\"text-align: right;\">\n",
       "      <th></th>\n",
       "      <th>size</th>\n",
       "      <th>sale</th>\n",
       "      <th>transaction</th>\n",
       "      <th>type</th>\n",
       "    </tr>\n",
       "  </thead>\n",
       "  <tbody>\n",
       "    <tr>\n",
       "      <th>1</th>\n",
       "      <td>G</td>\n",
       "      <td>1500</td>\n",
       "      <td>75</td>\n",
       "      <td>D</td>\n",
       "    </tr>\n",
       "    <tr>\n",
       "      <th>5</th>\n",
       "      <td>G</td>\n",
       "      <td>1450</td>\n",
       "      <td>60</td>\n",
       "      <td>D</td>\n",
       "    </tr>\n",
       "    <tr>\n",
       "      <th>9</th>\n",
       "      <td>G</td>\n",
       "      <td>2000</td>\n",
       "      <td>55</td>\n",
       "      <td>B</td>\n",
       "    </tr>\n",
       "    <tr>\n",
       "      <th>13</th>\n",
       "      <td>G</td>\n",
       "      <td>1500</td>\n",
       "      <td>150</td>\n",
       "      <td>B</td>\n",
       "    </tr>\n",
       "  </tbody>\n",
       "</table>\n",
       "</div>"
      ],
      "text/plain": [
       "   size  sale  transaction type\n",
       "1     G  1500           75    D\n",
       "5     G  1450           60    D\n",
       "9     G  2000           55    B\n",
       "13    G  1500          150    B"
      ]
     },
     "execution_count": 60,
     "metadata": {},
     "output_type": "execute_result"
    }
   ],
   "source": [
    "gp_data = fic_data.groupby('size')\n",
    "\n",
    "gp_data.get_group('G')"
   ]
  },
  {
   "cell_type": "code",
   "execution_count": 66,
   "metadata": {},
   "outputs": [
    {
     "name": "stdout",
     "output_type": "stream",
     "text": [
      "Grupo G\n",
      "   size  sale  transaction type\n",
      "1     G  1500           75    D\n",
      "5     G  1450           60    D\n",
      "9     G  2000           55    B\n",
      "13    G  1500          150    B\n",
      "-------------------\n",
      "Grupo GG\n",
      "   size  sale  transaction type\n",
      "0    GG  1000           50    D\n",
      "4    GG  2000          115    D\n",
      "8    GG  2500          125    D\n",
      "12   GG   901          490    B\n",
      "-------------------\n",
      "Grupo M\n",
      "   size  sale  transaction type\n",
      "2     M   800          410    D\n",
      "6     M  1200           35    D\n",
      "10    M  1600           65    B\n",
      "14    M  1420           85    B\n",
      "16    M  4000          140    B\n",
      "-------------------\n",
      "Grupo P\n",
      "   size  sale  transaction type\n",
      "3     P   900          460    D\n",
      "7     P  3000          125    D\n",
      "11    P   900          430    B\n",
      "15    P  1300          115    B\n",
      "17    P  3500           80    B\n",
      "-------------------\n"
     ]
    }
   ],
   "source": [
    "for key,value in gp_data:\n",
    "    print('Grupo',key)\n",
    "    print(value)\n",
    "    print('-------------------')"
   ]
  },
  {
   "cell_type": "code",
   "execution_count": 39,
   "metadata": {},
   "outputs": [
    {
     "data": {
      "text/html": [
       "<div>\n",
       "<style scoped>\n",
       "    .dataframe tbody tr th:only-of-type {\n",
       "        vertical-align: middle;\n",
       "    }\n",
       "\n",
       "    .dataframe tbody tr th {\n",
       "        vertical-align: top;\n",
       "    }\n",
       "\n",
       "    .dataframe thead th {\n",
       "        text-align: right;\n",
       "    }\n",
       "</style>\n",
       "<table border=\"1\" class=\"dataframe\">\n",
       "  <thead>\n",
       "    <tr style=\"text-align: right;\">\n",
       "      <th></th>\n",
       "      <th>sale</th>\n",
       "      <th>transaction</th>\n",
       "    </tr>\n",
       "    <tr>\n",
       "      <th>type</th>\n",
       "      <th></th>\n",
       "      <th></th>\n",
       "    </tr>\n",
       "  </thead>\n",
       "  <tbody>\n",
       "    <tr>\n",
       "      <th>B</th>\n",
       "      <td>1750.0</td>\n",
       "      <td>102.5</td>\n",
       "    </tr>\n",
       "    <tr>\n",
       "      <th>D</th>\n",
       "      <td>1475.0</td>\n",
       "      <td>67.5</td>\n",
       "    </tr>\n",
       "  </tbody>\n",
       "</table>\n",
       "</div>"
      ],
      "text/plain": [
       "        sale  transaction\n",
       "type                     \n",
       "B     1750.0        102.5\n",
       "D     1475.0         67.5"
      ]
     },
     "execution_count": 39,
     "metadata": {},
     "output_type": "execute_result"
    }
   ],
   "source": [
    "sub_gp_data = gp_data.get_group('G').groupby('type')\n",
    "\n",
    "sub_gp_data.mean()"
   ]
  },
  {
   "cell_type": "markdown",
   "metadata": {},
   "source": [
    "### Apply"
   ]
  },
  {
   "cell_type": "code",
   "execution_count": 40,
   "metadata": {},
   "outputs": [
    {
     "name": "stdout",
     "output_type": "stream",
     "text": [
      "           sale             \n",
      "            sum         mean\n",
      "type size                   \n",
      "B    G     3500  1750.000000\n",
      "     GG     901   901.000000\n",
      "     M     7020  2340.000000\n",
      "     P     5700  1900.000000\n",
      "D    G     2950  1475.000000\n",
      "     GG    5500  1833.333333\n",
      "     M     2000  1000.000000\n",
      "     P     3900  1950.000000\n",
      "--------------------------------------------------------\n",
      "  type size  sale             \n",
      "              sum         mean\n",
      "0    B    G  3500  1750.000000\n",
      "1    B   GG   901   901.000000\n",
      "2    B    M  7020  2340.000000\n",
      "3    B    P  5700  1900.000000\n",
      "4    D    G  2950  1475.000000\n",
      "5    D   GG  5500  1833.333333\n",
      "6    D    M  2000  1000.000000\n",
      "7    D    P  3900  1950.000000\n"
     ]
    }
   ],
   "source": [
    "gp_data = fic_data.groupby(['type','size'], as_index=True).agg({'sale':['sum','mean']})\n",
    "\n",
    "\n",
    "print(gp_data)\n",
    "\n",
    "print('--------------------------------------------------------')\n",
    "\n",
    "gp_data = fic_data.groupby(['type','size'], as_index=False).agg({'sale':['sum','mean']})\n",
    "\n",
    "print(gp_data)"
   ]
  },
  {
   "cell_type": "code",
   "execution_count": 41,
   "metadata": {},
   "outputs": [
    {
     "name": "stdout",
     "output_type": "stream",
     "text": [
      "  type size  sale             \n",
      "              sum         mean\n",
      "0    B    G  3500  1750.000000\n",
      "1    B   GG   901   901.000000\n",
      "2    B    M  7020  2340.000000\n",
      "3    B    P  5700  1900.000000\n",
      "4    D    G  2950  1475.000000\n",
      "5    D   GG  5500  1833.333333\n",
      "6    D    M  2000  1000.000000\n",
      "7    D    P  3900  1950.000000\n",
      "-----------------------------------------\n",
      "  type size  sale              level\n",
      "              sum         mean      \n",
      "0    B    G  3500  1750.000000  high\n",
      "1    B   GG   901   901.000000   low\n",
      "2    B    M  7020  2340.000000  high\n",
      "3    B    P  5700  1900.000000  high\n",
      "4    D    G  2950  1475.000000   low\n",
      "5    D   GG  5500  1833.333333  high\n",
      "6    D    M  2000  1000.000000   low\n",
      "7    D    P  3900  1950.000000  high\n"
     ]
    }
   ],
   "source": [
    "f = lambda x: 'high' if x > 3000 else 'low'\n",
    "\n",
    "\n",
    "gp_data = fic_data.groupby(['type','size'], as_index=False).agg({'sale':['sum','mean']})\n",
    "print(gp_data)\n",
    "\n",
    "print(\"-----------------------------------------\")\n",
    "\n",
    "gp_data['level'] = gp_data['sale']['sum'].apply(f)\n",
    "print(gp_data)"
   ]
  },
  {
   "cell_type": "code",
   "execution_count": 42,
   "metadata": {},
   "outputs": [
    {
     "name": "stdout",
     "output_type": "stream",
     "text": [
      "  type_ size_  sale_sum    sale_mean level_\n",
      "0     B     G      3500  1750.000000   high\n",
      "1     B    GG       901   901.000000    low\n",
      "2     B     M      7020  2340.000000   high\n",
      "3     B     P      5700  1900.000000   high\n",
      "4     D     G      2950  1475.000000    low\n",
      "5     D    GG      5500  1833.333333   high\n",
      "6     D     M      2000  1000.000000    low\n",
      "7     D     P      3900  1950.000000   high\n",
      "------------------------------------------------------------------\n",
      "  type_ size_  sale_sum  sale_mean level_\n",
      "1     B    GG       901      901.0    low\n",
      "4     D     G      2950     1475.0    low\n",
      "6     D     M      2000     1000.0    low\n"
     ]
    }
   ],
   "source": [
    "gp_data.columns = [\"_\".join(x) for x in gp_data.columns.ravel()]\n",
    "\n",
    "print(gp_data)\n",
    "\n",
    "print('------------------------------------------------------------------')\n",
    "\n",
    "lv_gp_data = gp_data.groupby('level_')\n",
    "\n",
    "print(lv_gp_data.get_group('low'))"
   ]
  },
  {
   "cell_type": "code",
   "execution_count": 67,
   "metadata": {},
   "outputs": [
    {
     "name": "stdout",
     "output_type": "stream",
     "text": [
      "  size  sale  transaction type\n",
      "0   GG  1000           50    D\n",
      "1    G  1500           75    D\n",
      "2    M   800          410    D\n",
      "3    P   900          460    D\n",
      "4   GG  2000          115    D\n",
      "--------------------------------------------------------------------\n",
      "             sale  transaction\n",
      "type                          \n",
      "B     1107.833020   163.244023\n",
      "D      759.294263   158.863149\n",
      "--------------------------------------------------------------------\n",
      "   size  sale  transaction type     sale_std\n",
      "0    GG  1000           50    D   759.294263\n",
      "1     G  1500           75    D   759.294263\n",
      "2     M   800          410    D   759.294263\n",
      "3     P   900          460    D   759.294263\n",
      "4    GG  2000          115    D   759.294263\n",
      "5     G  1450           60    D   759.294263\n",
      "6     M  1200           35    D   759.294263\n",
      "7     P  3000          125    D   759.294263\n",
      "8    GG  2500          125    D   759.294263\n",
      "9     G  2000           55    B  1107.833020\n",
      "10    M  1600           65    B  1107.833020\n",
      "11    P   900          430    B  1107.833020\n",
      "12   GG   901          490    B  1107.833020\n",
      "13    G  1500          150    B  1107.833020\n",
      "14    M  1420           85    B  1107.833020\n",
      "15    P  1300          115    B  1107.833020\n",
      "16    M  4000          140    B  1107.833020\n",
      "17    P  3500           80    B  1107.833020\n"
     ]
    }
   ],
   "source": [
    "fic_data = pd.DataFrame({'size':['GG','G','M','P','GG','G','M','P','GG','G','M','P','GG','G','M','P','M','P'],\n",
    "            'sale':[1000,1500,800,900,2000,1450,1200,3000,2500,2000,1600,900,901,1500,1420,1300,4000,3500],\n",
    "            'transaction':[50,75,410,460,115,60,35,125,125,55,65,430,490,150,85,115,140,80],\n",
    "             'type':['D','D','D','D','D','D','D','D','D','B','B','B','B','B','B','B','B','B']})\n",
    "\n",
    "\n",
    "print(fic_data.head(5))\n",
    "\n",
    "print('--------------------------------------------------------------------')\n",
    "\n",
    "print(fic_data.groupby('type', as_index=True).std())\n",
    "\n",
    "print('--------------------------------------------------------------------')\n",
    "\n",
    "fic_data['sale_std'] = fic_data.groupby('type', as_index=True)['sale'].transform('std')\n",
    "\n",
    "print(fic_data)"
   ]
  },
  {
   "cell_type": "code",
   "execution_count": 44,
   "metadata": {},
   "outputs": [
    {
     "name": "stdout",
     "output_type": "stream",
     "text": [
      "   size  sale  transaction type     sale_std  sale_sum    sale_mean  \\\n",
      "0    GG  1000           50    D   763.762616      5500  1833.333333   \n",
      "1     G  1500           75    D    35.355339      2950  1475.000000   \n",
      "2     M   800          410    D   282.842712      2000  1000.000000   \n",
      "3     P   900          460    D  1484.924240      3900  1950.000000   \n",
      "4    GG  2000          115    D   763.762616      5500  1833.333333   \n",
      "5     G  1450           60    D    35.355339      2950  1475.000000   \n",
      "6     M  1200           35    D   282.842712      2000  1000.000000   \n",
      "7     P  3000          125    D  1484.924240      3900  1950.000000   \n",
      "8    GG  2500          125    D   763.762616      5500  1833.333333   \n",
      "9     G  2000           55    B   353.553391      3500  1750.000000   \n",
      "10    M  1600           65    B  1440.416606      7020  2340.000000   \n",
      "11    P   900          430    B  1400.000000      5700  1900.000000   \n",
      "12   GG   901          490    B          NaN       901   901.000000   \n",
      "13    G  1500          150    B   353.553391      3500  1750.000000   \n",
      "14    M  1420           85    B  1440.416606      7020  2340.000000   \n",
      "15    P  1300          115    B  1400.000000      5700  1900.000000   \n",
      "16    M  4000          140    B  1440.416606      7020  2340.000000   \n",
      "17    P  3500           80    B  1400.000000      5700  1900.000000   \n",
      "\n",
      "    sale_count  \n",
      "0            3  \n",
      "1            2  \n",
      "2            2  \n",
      "3            2  \n",
      "4            3  \n",
      "5            2  \n",
      "6            2  \n",
      "7            2  \n",
      "8            3  \n",
      "9            2  \n",
      "10           3  \n",
      "11           3  \n",
      "12           1  \n",
      "13           2  \n",
      "14           3  \n",
      "15           3  \n",
      "16           3  \n",
      "17           3  \n"
     ]
    }
   ],
   "source": [
    "fic_data = pd.DataFrame({'size':['GG','G','M','P','GG','G','M','P','GG','G','M','P','GG','G','M','P','M','P'],\n",
    "            'sale':[1000,1500,800,900,2000,1450,1200,3000,2500,2000,1600,900,901,1500,1420,1300,4000,3500],\n",
    "            'transaction':[50,75,410,460,115,60,35,125,125,55,65,430,490,150,85,115,140,80],\n",
    "             'type':['D','D','D','D','D','D','D','D','D','B','B','B','B','B','B','B','B','B']})\n",
    "\n",
    "transformacoes = ['std','sum','mean','count']\n",
    "\n",
    "for trans in transformacoes:\n",
    "    fic_data['sale_{}'.format(trans)] = fic_data.groupby(['type','size'], as_index=True)['sale'].transform(trans)\n",
    "    \n",
    "print(fic_data)    "
   ]
  },
  {
   "cell_type": "code",
   "execution_count": 45,
   "metadata": {},
   "outputs": [
    {
     "name": "stdout",
     "output_type": "stream",
     "text": [
      "   size  sale  transaction type     sale_std  sale_sum    sale_mean  \\\n",
      "0    GG  1000           50    D   763.762616      5500  1833.333333   \n",
      "1     G  1500           75    D    35.355339      2950  1475.000000   \n",
      "2     M   800          410    D   282.842712      2000  1000.000000   \n",
      "3     P   900          460    D  1484.924240      3900  1950.000000   \n",
      "4    GG  2000          115    D   763.762616      5500  1833.333333   \n",
      "5     G  1450           60    D    35.355339      2950  1475.000000   \n",
      "6     M  1200           35    D   282.842712      2000  1000.000000   \n",
      "7     P  3000          125    D  1484.924240      3900  1950.000000   \n",
      "8    GG  2500          125    D   763.762616      5500  1833.333333   \n",
      "9     G  2000           55    B   353.553391      3500  1750.000000   \n",
      "10    M  1600           65    B  1440.416606      7020  2340.000000   \n",
      "11    P   900          430    B  1400.000000      5700  1900.000000   \n",
      "12   GG   901          490    B          NaN       901   901.000000   \n",
      "13    G  1500          150    B   353.553391      3500  1750.000000   \n",
      "14    M  1420           85    B  1440.416606      7020  2340.000000   \n",
      "15    P  1300          115    B  1400.000000      5700  1900.000000   \n",
      "16    M  4000          140    B  1440.416606      7020  2340.000000   \n",
      "17    P  3500           80    B  1400.000000      5700  1900.000000   \n",
      "\n",
      "    sale_count  sale_stdartized  \n",
      "0            3        -1.091089  \n",
      "1            2         0.707107  \n",
      "2            2        -0.707107  \n",
      "3            2        -0.707107  \n",
      "4            3         0.218218  \n",
      "5            2        -0.707107  \n",
      "6            2         0.707107  \n",
      "7            2         0.707107  \n",
      "8            3         0.872872  \n",
      "9            2         0.707107  \n",
      "10           3        -0.513740  \n",
      "11           3        -0.714286  \n",
      "12           1              NaN  \n",
      "13           2        -0.707107  \n",
      "14           3        -0.638704  \n",
      "15           3        -0.428571  \n",
      "16           3         1.152444  \n",
      "17           3         1.142857  \n"
     ]
    }
   ],
   "source": [
    "fic_data['sale_stdartized'] = ((fic_data['sale'] - fic_data['sale_mean'])/fic_data['sale_std'])\n",
    "\n",
    "print(fic_data)"
   ]
  },
  {
   "cell_type": "code",
   "execution_count": 46,
   "metadata": {},
   "outputs": [
    {
     "name": "stdout",
     "output_type": "stream",
     "text": [
      "size\n",
      "G      85\n",
      "GG    195\n",
      "M     147\n",
      "P     242\n",
      "Name: transaction, dtype: int64\n",
      "-----------------------------------------------------------------------------------------------\n",
      "   size  sale transaction type\n",
      "13    G  1500         150    B\n",
      "12   GG   901         490    B\n",
      "2     M   800         410    D\n",
      "3     P   900         460    D\n",
      "11    P   900         430    B\n"
     ]
    }
   ],
   "source": [
    "fic_data = pd.DataFrame({'size':['GG','G','M','P','GG','G','M','P','GG','G','M','P','GG','G','M','P','M','P'],\n",
    "            'sale':[1000,1500,800,900,2000,1450,1200,3000,2500,2000,1600,900,901,1500,1420,1300,4000,3500],\n",
    "            'transaction':[50,75,410,460,115,60,35,125,125,55,65,430,490,150,85,115,140,80],\n",
    "             'type':['D','D','D','D','D','D','D','D','D','B','B','B','B','B','B','B','B','B']})\n",
    "\n",
    "\n",
    "group_data = fic_data.groupby('size')\n",
    "\n",
    "print(group_data['transaction'].mean())\n",
    "\n",
    "print('-----------------------------------------------------------------------------------------------')\n",
    "\n",
    "mean_dic = {\n",
    "           'P':group_data['transaction'].mean().loc['P'],\n",
    "           'M':group_data['transaction'].mean().loc['M'],\n",
    "           'G':group_data['transaction'].mean().loc['G'],\n",
    "           'GG':group_data['transaction'].mean().loc['GG']\n",
    "            }\n",
    "\n",
    "\n",
    "fill_data = pd.DataFrame(columns=fic_data.columns)\n",
    "\n",
    "for key, group in group_data:\n",
    "    seleccao = group[group['transaction'] > mean_dic[key]]\n",
    "    fill_data = fill_data.append(seleccao)\n",
    "    \n",
    "\n",
    "print(fill_data)"
   ]
  },
  {
   "cell_type": "markdown",
   "metadata": {},
   "source": [
    "### Combine"
   ]
  },
  {
   "cell_type": "code",
   "execution_count": 47,
   "metadata": {},
   "outputs": [
    {
     "name": "stdout",
     "output_type": "stream",
     "text": [
      "<class 'pandas.core.series.Series'>\n",
      "size\n",
      "G     1612.50\n",
      "GG    1600.25\n",
      "M     1804.00\n",
      "P     1920.00\n",
      "Name: sale, dtype: float64\n"
     ]
    }
   ],
   "source": [
    "group = fic_data.groupby('size',as_index=True)['sale'].mean()\n",
    "\n",
    "print(type(group))\n",
    "\n",
    "print(group)"
   ]
  },
  {
   "cell_type": "code",
   "execution_count": 48,
   "metadata": {},
   "outputs": [
    {
     "name": "stdout",
     "output_type": "stream",
     "text": [
      "         sale  transaction\n",
      "size                      \n",
      "G     1612.50          340\n",
      "GG    1600.25          780\n",
      "M     1804.00          735\n",
      "P     1920.00         1210\n"
     ]
    }
   ],
   "source": [
    "group = fic_data.groupby('size',as_index=True).agg({'sale':np.mean,'transaction':np.sum})\n",
    "\n",
    "print(group)"
   ]
  },
  {
   "cell_type": "code",
   "execution_count": 49,
   "metadata": {},
   "outputs": [
    {
     "name": "stdout",
     "output_type": "stream",
     "text": [
      "  size     sale\n",
      "0    G  1612.50\n",
      "1   GG  1600.25\n",
      "2    M  1804.00\n",
      "3    P  1920.00\n"
     ]
    }
   ],
   "source": [
    "group = fic_data.groupby('size',as_index=False)['sale'].mean()\n",
    "\n",
    "print(group)"
   ]
  }
 ],
 "metadata": {
  "kernelspec": {
   "display_name": "Python 2",
   "language": "python",
   "name": "python2"
  },
  "language_info": {
   "codemirror_mode": {
    "name": "ipython",
    "version": 3
   },
   "file_extension": ".py",
   "mimetype": "text/x-python",
   "name": "python",
   "nbconvert_exporter": "python",
   "pygments_lexer": "ipython3",
   "version": "3.7.0"
  }
 },
 "nbformat": 4,
 "nbformat_minor": 2
}
