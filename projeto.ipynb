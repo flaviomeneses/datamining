{
 "cells": [
  {
   "cell_type": "markdown",
   "metadata": {},
   "source": [
    "# Projeto - COVID-19"
   ]
  },
  {
   "cell_type": "markdown",
   "metadata": {},
   "source": [
    "Utilizar API: https://developer.smartable.ai/api-details#api=coronavirus&operation=stats"
   ]
  },
  {
   "cell_type": "code",
   "execution_count": null,
   "metadata": {},
   "outputs": [],
   "source": [
    "import numpy as np \n",
    "import pandas as pd\n",
    "import matplotlib.pyplot as plt\n",
    "import requests\n",
    "import json"
   ]
  },
  {
   "cell_type": "code",
   "execution_count": null,
   "metadata": {},
   "outputs": [],
   "source": [
    "def getStats(country):\n",
    "    api_url = 'https://api.smartable.ai/coronavirus/stats/'+country\n",
    "    api_params = {\n",
    "        'Cache-Control': 'no-cache',\n",
    "        'Subscription-Key': '09c878035780460db42ffc4496f051be',\n",
    "    }\n",
    "    r = requests.get(url=api_url, params=api_params) \n",
    "    return r.text"
   ]
  },
  {
   "cell_type": "markdown",
   "metadata": {},
   "source": [
    "**Selecione o país que pretende analizar utilizando o método *getStats()* usando o respetivo \"ISO 3166 Country Code\" como argumento de entrada**\n",
    "\n",
    "https://en.wikipedia.org/wiki/ISO_3166-1_alpha-2#PT "
   ]
  },
  {
   "cell_type": "code",
   "execution_count": null,
   "metadata": {},
   "outputs": [],
   "source": []
  },
  {
   "cell_type": "markdown",
   "metadata": {},
   "source": [
    "## Sabendo que a API devolve os resultados em formato JSON, analise esses mesmos resultados utilizando estruturas Pandas e gráficos do Matplotlib"
   ]
  },
  {
   "cell_type": "code",
   "execution_count": null,
   "metadata": {},
   "outputs": [],
   "source": [
    "# load dos dados json"
   ]
  },
  {
   "cell_type": "code",
   "execution_count": null,
   "metadata": {},
   "outputs": [],
   "source": [
    "# recolher country do dados json recebidos\n",
    "\n",
    "# mostrar as estatisticas do utltimo 'breakdown' e mostrar numero de mortes\n"
   ]
  },
  {
   "cell_type": "code",
   "execution_count": null,
   "metadata": {},
   "outputs": [],
   "source": [
    "# Coverter dados history para um dataframe e convereter as datas do formato string para o formato correto\n",
    "# nota: utilizar o to_datetime() do pandas\n"
   ]
  },
  {
   "cell_type": "code",
   "execution_count": null,
   "metadata": {},
   "outputs": [],
   "source": [
    "# Mostrar os grafico com os valores do pais selecionado\n",
    "\n",
    "# Escolha um periodo de tempo a mostrar\n"
   ]
  },
  {
   "cell_type": "markdown",
   "metadata": {},
   "source": [
    "## Realize algo semelhante comparando 3 países à escolha"
   ]
  },
  {
   "cell_type": "code",
   "execution_count": null,
   "metadata": {},
   "outputs": [],
   "source": [
    "# Selecionar 3 paises e recolher os valores via API com o método getStats()\n"
   ]
  },
  {
   "cell_type": "code",
   "execution_count": null,
   "metadata": {},
   "outputs": [],
   "source": [
    "# Colecionar as estatistivas em dataframes ou num unico dataframe\n",
    "\n",
    "\n",
    "# Mostrar o total de confirmados para os paises selecionados\n"
   ]
  },
  {
   "cell_type": "code",
   "execution_count": null,
   "metadata": {},
   "outputs": [],
   "source": [
    "# Mostrar em gráfico os valores recolhidos\n"
   ]
  },
  {
   "cell_type": "code",
   "execution_count": null,
   "metadata": {},
   "outputs": [],
   "source": []
  }
 ],
 "metadata": {
  "kernelspec": {
   "display_name": "Python 3",
   "language": "python",
   "name": "python3"
  },
  "language_info": {
   "codemirror_mode": {
    "name": "ipython",
    "version": 3
   },
   "file_extension": ".py",
   "mimetype": "text/x-python",
   "name": "python",
   "nbconvert_exporter": "python",
   "pygments_lexer": "ipython3",
   "version": "3.7.0"
  }
 },
 "nbformat": 4,
 "nbformat_minor": 4
}
